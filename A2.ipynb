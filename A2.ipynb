{
  "cells": [
    {
      "cell_type": "markdown",
      "metadata": {
        "id": "X6WDvajSqIDs"
      },
      "source": [
        "# Assignment 2: Hand Gesture Recognition [50 Pt]\n",
        "\n",
        "This assignment will be completed in two parts. In Part A you will gain experience gathering your own data set (specifically images of hand gestures), and understand the challenges involved in the data cleaning process. In Part B you will train a convolutional neural network to make classifications on different hand gestures. By the end of this assignment, you should be able to:\n",
        "\n",
        "1. Generate and preprocess your own data\n",
        "2. Load and split data for training, validation and testing\n",
        "3. Train a Convolutional Neural Network\n",
        "4. Apply transfer learning to improve your model\n",
        "\n",
        "Note that for this assignment we will not be providing you with any starter code. You should be able to take the sample code provided in the preparation sample code, previous assignment, and lectures and modify it accordingly to complete the tasks outlined below.\n",
        "\n",
        "*This assignment is based on an assignment developed by Prof. Lisa Zhang.*\n",
        "\n",
        "### What to submit\n",
        "\n",
        "**Submission for Part A:**  \n",
        "Submit a zip file containing your images. Three images each of American Sign Language gestures for letters A - I (total of 27 images). You will be required to clean the images before submitting them. Details are provided under Part A of the handout.\n",
        "\n",
        "Individual image file names should follow the convention of student-number_Alphabet_file-number.jpg\n",
        "(e.g. 100343434_A_1.jpg).\n",
        "\n",
        "\n",
        "**Submission for Part B:**  \n",
        "Submit an HTML file containing all your code, outputs, and write-up\n",
        "from parts A and B. You can produce a HTML file directly from Google Colab. The Colab instructions are provided at the end of this document.\n",
        "\n",
        "**Do not submit any other files produced by your code.**\n",
        "\n",
        "Include a link to your colab file in your submission.\n",
        "\n",
        "Please use Google Colab to complete this assignment. If you want to use Jupyter Notebook, please complete the assignment and upload your Jupyter Notebook file to Google Colab for submission."
      ]
    },
    {
      "cell_type": "markdown",
      "metadata": {
        "id": "LfiFE_WOqIDu"
      },
      "source": [
        "## Colab Link\n",
        "\n",
        "Include a link to your colab file here and ensure the file can be accessed by the our teaching team.\n"
      ]
    },
    {
      "cell_type": "code",
      "execution_count": null,
      "metadata": {
        "id": "TeX7gWbmMdqh"
      },
      "outputs": [],
      "source": [
        "# TO BE COMPLETED\n",
        "\n",
        "http://colab.research.google.com/drive/1dUSQGNe2rXO9mwjuwNPUimGpg8y8032-#scrollTo=TeX7gWbmMdqh"
      ]
    },
    {
      "cell_type": "markdown",
      "metadata": {
        "id": "kvTXpH_kqIDy"
      },
      "source": [
        "# Part A. Data Collection [5pt]\n",
        "\n",
        "So far, we have worked with data sets that have been collected, cleaned, and curated by machine learning\n",
        "researchers and practitioners. Datasets like MNIST and CIFAR are often used as toy examples, both by\n",
        "students and by researchers testing new machine learning models.\n",
        "\n",
        "In the real world, getting a clean data set is never that easy. More than half the work in applying machine\n",
        "learning is finding, gathering, cleaning, and formatting your data set.\n",
        "\n",
        "The purpose of this assignment is to help you gain experience gathering your own data set, and understand the\n",
        "challenges involved in the data cleaning process.\n",
        "\n",
        "### American Sign Language\n",
        "\n",
        "American Sign Language (ASL) is a complete, complex language that employs signs made by moving the\n",
        "hands combined with facial expressions and postures of the body. It is the primary language of many\n",
        "North Americans who are deaf and is one of several communication options used by people who are deaf or\n",
        "hard-of-hearing.\n",
        "\n",
        "The hand gestures representing English alphabet are shown below. This assignment focuses on classifying a subset\n",
        "of these hand gesture images using convolutional neural networks. Specifically, given an image of a hand\n",
        "showing one of the letters A-I, we want to detect which letter is being represented.\n",
        "\n",
        "![alt text](https://www.disabled-world.com/pics/1/asl-alphabet.jpg)\n",
        "\n",
        "\n",
        "### Generating Data\n",
        "We will produce the images required to assess our models by ourselves. You are required to collect, clean and submit\n",
        "three images each of Americal Sign Language gestures for letters A - I (total of 27 images)\n",
        "Steps involved in data collection\n",
        "\n",
        "1. Familiarize yourself with American Sign Language gestures for letters from A - I (9 letters).\n",
        "2. Take three pictures at slightly different orientation for each letter gesture using your\n",
        "mobile phone.\n",
        " - Ensure adequate lighting while you are capturing the images.\n",
        " - Use a white wall as your background.\n",
        " - Use your right hand to create gestures (for consistency).\n",
        " - Keep your right hand fairly apart from your body and any other obstructions.\n",
        " - Avoid having shadows on parts of your hand.\n",
        "3. Transfer the images to your laptop for cleaning.\n",
        "\n",
        "### Cleaning Data\n",
        "To simplify the machine learning the task, we will standardize the training images. We will make sure that\n",
        "all our images are of the same size (224 x 224 pixels RGB), and have the hand in the center of the cropped\n",
        "regions.\n",
        "\n",
        "You may use the following applications to crop and resize your images:\n",
        "\n",
        "**Mac**\n",
        "- Use Preview:\n",
        "– Holding down CMD + Shift will keep a square aspect ratio while selecting the hand area.\n",
        "– Resize to 224x224 pixels.\n",
        "\n",
        "**Windows 10**\n",
        "- Use Photos app to edit and crop the image and keep the aspect ratio a square.\n",
        "- Use Paint to resize the image to the final image size of 224x224 pixels.\n",
        "\n",
        "**Linux**\n",
        "- You can use GIMP, imagemagick, or other tools of your choosing.\n",
        "You may also use online tools such as http://picresize.com\n",
        "All the above steps are illustrative only. You need not follow these steps but following these will ensure that\n",
        "you produce a good quality dataset. You will be judged based on the quality of the images alone.\n",
        "Please do not edit your photos in any other way. You should not need to change the aspect ratio of your\n",
        "image. You also should not digitally remove the background or shadows—instead, take photos with a white\n",
        "background and minimal shadows.\n",
        "\n",
        "### Accepted Images\n",
        "Images will be accepted and graded based on the criteria below\n",
        "1. The final image should be size 224x224 pixels (RGB).\n",
        "2. The file format should be a .jpg file.\n",
        "3. The hand should be approximately centered on the frame.\n",
        "4. The hand should not be obscured or cut off.\n",
        "5. The photos follows the ASL gestures posted earlier.\n",
        "6. The photos were not edited in any other way (e.g. no electronic removal of shadows or background).\n",
        "\n",
        "### Submission\n",
        "Submit a zip file containing your images. There should be a total of 27 images (3 for each category)\n",
        "1. Individual image file names should follow the convention of student-number_Alphabet_file-number.jpg\n",
        "(e.g. 100343434_A_1.jpg)\n",
        "2. Zip all the images together and name it with the following convention: last-name_student-number.zip\n",
        "(e.g. last-name_100343434.zip).\n",
        "3. Submit the zipped folder.\n",
        "\n",
        "![alt text](https://github.com/UTNeural/APS360/blob/master/Gesture%20Images.PNG?raw=true)"
      ]
    },
    {
      "cell_type": "markdown",
      "metadata": {
        "id": "bJxMgWGNqID2"
      },
      "source": [
        "# Part B. Building a CNN [45pt]\n",
        "\n",
        "For this assignment, we are not going to give you any starter code. You will be writing a convolutional neural network\n",
        "from scratch. You are welcome to modify and combine code provided previously in the course (assignments, preparation code, lectures, etc.). You can also write your own code.\n",
        "\n",
        "You may use the PyTorch documentation freely. You might also find online tutorials helpful. However, all code that you submit must be be your own. You cannot take a completed assignment and claim it as your own.\n",
        "\n",
        "Make sure that your code is vectorized, and does not contain obvious inefficiencies (for example, unecessary\n",
        "for loops, or unnecessary calls to unsqueeze()). Ensure enough comments are included in the code so that\n",
        "your TA can understand what you are doing. It is your responsibility to show that you understand what you\n",
        "write.\n",
        "\n",
        "**This is much more challenging and time-consuming than the previous assignments.** Make sure that you give yourself plenty of time by starting early."
      ]
    },
    {
      "cell_type": "markdown",
      "metadata": {
        "id": "MiDuQaAh56sT"
      },
      "source": [
        "## Part 1. Data Loading and Splitting [3pt EXPLORATORY]\n",
        "\n",
        "Download the anonymized data provided on Quercus. Split the data into training, validation, and test sets.\n",
        "\n",
        "Note: Data splitting is not as trivial in this assignment. We want our test set to closely resemble the setting in which\n",
        "our model will be used. In particular, our test set should contain hands that are never seen in training!\n",
        "\n",
        "Explain how you split the data, either by describing what you did, or by showing the code that you used.\n",
        "Justify your choice of splitting strategy. How many training, validation, and test images do you have?\n",
        "\n",
        "For loading the data, you can use plt.imread, or any other method that you choose. You may find\n",
        "torchvision.datasets.ImageFolder helpful. (see https://pytorch.org/vision/main/generated/torchvision.datasets.ImageFolder.html)\n",
        ")"
      ]
    },
    {
      "cell_type": "code",
      "source": [
        "# load to Google Colab\n",
        "from google.colab import files\n",
        "uploaded = files.upload()"
      ],
      "metadata": {
        "colab": {
          "base_uri": "https://localhost:8080/",
          "height": 74
        },
        "id": "EykdS2UmKf1C",
        "outputId": "daf63314-54b8-481a-8475-941d32f096cf"
      },
      "execution_count": 5,
      "outputs": [
        {
          "output_type": "display_data",
          "data": {
            "text/plain": [
              "<IPython.core.display.HTML object>"
            ],
            "text/html": [
              "\n",
              "     <input type=\"file\" id=\"files-54825b84-3854-4e03-ac40-337f6b160106\" name=\"files[]\" multiple disabled\n",
              "        style=\"border:none\" />\n",
              "     <output id=\"result-54825b84-3854-4e03-ac40-337f6b160106\">\n",
              "      Upload widget is only available when the cell has been executed in the\n",
              "      current browser session. Please rerun this cell to enable.\n",
              "      </output>\n",
              "      <script>// Copyright 2017 Google LLC\n",
              "//\n",
              "// Licensed under the Apache License, Version 2.0 (the \"License\");\n",
              "// you may not use this file except in compliance with the License.\n",
              "// You may obtain a copy of the License at\n",
              "//\n",
              "//      http://www.apache.org/licenses/LICENSE-2.0\n",
              "//\n",
              "// Unless required by applicable law or agreed to in writing, software\n",
              "// distributed under the License is distributed on an \"AS IS\" BASIS,\n",
              "// WITHOUT WARRANTIES OR CONDITIONS OF ANY KIND, either express or implied.\n",
              "// See the License for the specific language governing permissions and\n",
              "// limitations under the License.\n",
              "\n",
              "/**\n",
              " * @fileoverview Helpers for google.colab Python module.\n",
              " */\n",
              "(function(scope) {\n",
              "function span(text, styleAttributes = {}) {\n",
              "  const element = document.createElement('span');\n",
              "  element.textContent = text;\n",
              "  for (const key of Object.keys(styleAttributes)) {\n",
              "    element.style[key] = styleAttributes[key];\n",
              "  }\n",
              "  return element;\n",
              "}\n",
              "\n",
              "// Max number of bytes which will be uploaded at a time.\n",
              "const MAX_PAYLOAD_SIZE = 100 * 1024;\n",
              "\n",
              "function _uploadFiles(inputId, outputId) {\n",
              "  const steps = uploadFilesStep(inputId, outputId);\n",
              "  const outputElement = document.getElementById(outputId);\n",
              "  // Cache steps on the outputElement to make it available for the next call\n",
              "  // to uploadFilesContinue from Python.\n",
              "  outputElement.steps = steps;\n",
              "\n",
              "  return _uploadFilesContinue(outputId);\n",
              "}\n",
              "\n",
              "// This is roughly an async generator (not supported in the browser yet),\n",
              "// where there are multiple asynchronous steps and the Python side is going\n",
              "// to poll for completion of each step.\n",
              "// This uses a Promise to block the python side on completion of each step,\n",
              "// then passes the result of the previous step as the input to the next step.\n",
              "function _uploadFilesContinue(outputId) {\n",
              "  const outputElement = document.getElementById(outputId);\n",
              "  const steps = outputElement.steps;\n",
              "\n",
              "  const next = steps.next(outputElement.lastPromiseValue);\n",
              "  return Promise.resolve(next.value.promise).then((value) => {\n",
              "    // Cache the last promise value to make it available to the next\n",
              "    // step of the generator.\n",
              "    outputElement.lastPromiseValue = value;\n",
              "    return next.value.response;\n",
              "  });\n",
              "}\n",
              "\n",
              "/**\n",
              " * Generator function which is called between each async step of the upload\n",
              " * process.\n",
              " * @param {string} inputId Element ID of the input file picker element.\n",
              " * @param {string} outputId Element ID of the output display.\n",
              " * @return {!Iterable<!Object>} Iterable of next steps.\n",
              " */\n",
              "function* uploadFilesStep(inputId, outputId) {\n",
              "  const inputElement = document.getElementById(inputId);\n",
              "  inputElement.disabled = false;\n",
              "\n",
              "  const outputElement = document.getElementById(outputId);\n",
              "  outputElement.innerHTML = '';\n",
              "\n",
              "  const pickedPromise = new Promise((resolve) => {\n",
              "    inputElement.addEventListener('change', (e) => {\n",
              "      resolve(e.target.files);\n",
              "    });\n",
              "  });\n",
              "\n",
              "  const cancel = document.createElement('button');\n",
              "  inputElement.parentElement.appendChild(cancel);\n",
              "  cancel.textContent = 'Cancel upload';\n",
              "  const cancelPromise = new Promise((resolve) => {\n",
              "    cancel.onclick = () => {\n",
              "      resolve(null);\n",
              "    };\n",
              "  });\n",
              "\n",
              "  // Wait for the user to pick the files.\n",
              "  const files = yield {\n",
              "    promise: Promise.race([pickedPromise, cancelPromise]),\n",
              "    response: {\n",
              "      action: 'starting',\n",
              "    }\n",
              "  };\n",
              "\n",
              "  cancel.remove();\n",
              "\n",
              "  // Disable the input element since further picks are not allowed.\n",
              "  inputElement.disabled = true;\n",
              "\n",
              "  if (!files) {\n",
              "    return {\n",
              "      response: {\n",
              "        action: 'complete',\n",
              "      }\n",
              "    };\n",
              "  }\n",
              "\n",
              "  for (const file of files) {\n",
              "    const li = document.createElement('li');\n",
              "    li.append(span(file.name, {fontWeight: 'bold'}));\n",
              "    li.append(span(\n",
              "        `(${file.type || 'n/a'}) - ${file.size} bytes, ` +\n",
              "        `last modified: ${\n",
              "            file.lastModifiedDate ? file.lastModifiedDate.toLocaleDateString() :\n",
              "                                    'n/a'} - `));\n",
              "    const percent = span('0% done');\n",
              "    li.appendChild(percent);\n",
              "\n",
              "    outputElement.appendChild(li);\n",
              "\n",
              "    const fileDataPromise = new Promise((resolve) => {\n",
              "      const reader = new FileReader();\n",
              "      reader.onload = (e) => {\n",
              "        resolve(e.target.result);\n",
              "      };\n",
              "      reader.readAsArrayBuffer(file);\n",
              "    });\n",
              "    // Wait for the data to be ready.\n",
              "    let fileData = yield {\n",
              "      promise: fileDataPromise,\n",
              "      response: {\n",
              "        action: 'continue',\n",
              "      }\n",
              "    };\n",
              "\n",
              "    // Use a chunked sending to avoid message size limits. See b/62115660.\n",
              "    let position = 0;\n",
              "    do {\n",
              "      const length = Math.min(fileData.byteLength - position, MAX_PAYLOAD_SIZE);\n",
              "      const chunk = new Uint8Array(fileData, position, length);\n",
              "      position += length;\n",
              "\n",
              "      const base64 = btoa(String.fromCharCode.apply(null, chunk));\n",
              "      yield {\n",
              "        response: {\n",
              "          action: 'append',\n",
              "          file: file.name,\n",
              "          data: base64,\n",
              "        },\n",
              "      };\n",
              "\n",
              "      let percentDone = fileData.byteLength === 0 ?\n",
              "          100 :\n",
              "          Math.round((position / fileData.byteLength) * 100);\n",
              "      percent.textContent = `${percentDone}% done`;\n",
              "\n",
              "    } while (position < fileData.byteLength);\n",
              "  }\n",
              "\n",
              "  // All done.\n",
              "  yield {\n",
              "    response: {\n",
              "      action: 'complete',\n",
              "    }\n",
              "  };\n",
              "}\n",
              "\n",
              "scope.google = scope.google || {};\n",
              "scope.google.colab = scope.google.colab || {};\n",
              "scope.google.colab._files = {\n",
              "  _uploadFiles,\n",
              "  _uploadFilesContinue,\n",
              "};\n",
              "})(self);\n",
              "</script> "
            ]
          },
          "metadata": {}
        },
        {
          "output_type": "stream",
          "name": "stdout",
          "text": [
            "Saving A2_Hand_Gesture_Dataset_revised.zip to A2_Hand_Gesture_Dataset_revised.zip\n"
          ]
        }
      ]
    },
    {
      "cell_type": "code",
      "execution_count": 6,
      "metadata": {
        "id": "WBrH5kBqRLa6",
        "colab": {
          "base_uri": "https://localhost:8080/"
        },
        "outputId": "02b1d5d4-f6df-4c1a-ecc9-3779f87fb547"
      },
      "outputs": [
        {
          "output_type": "stream",
          "name": "stdout",
          "text": [
            "Dataset root: data_hands/Lab_3b_Gesture_Dataset Revised\n"
          ]
        }
      ],
      "source": [
        "# TO BE COMPLETED\n",
        "\n",
        "import os, zipfile, re\n",
        "from glob import glob\n",
        "\n",
        "zip_name = \"A2_Hand_Gesture_Dataset_revised.zip\"   # put the zip in your working dir\n",
        "data_root = \"data_hands\"\n",
        "\n",
        "if not os.path.exists(data_root):\n",
        "    with zipfile.ZipFile(zip_name, \"r\") as zf:\n",
        "        zf.extractall(data_root)\n",
        "\n",
        "# after unzip, expect: data_hands/Lab_3b_Gesture_Dataset/{A,B,...,I}/<files>.jpg\n",
        "# update this path if the top-level folder name differs\n",
        "dataset_dir = sorted([p for p in glob(os.path.join(data_root, \"*\")) if os.path.isdir(p)])[0]\n",
        "print(\"Dataset root:\", dataset_dir)\n",
        "\n",
        "\n",
        "\n"
      ]
    },
    {
      "cell_type": "code",
      "source": [
        "import torch\n",
        "from torchvision import datasets, transforms\n",
        "\n",
        "from torchvision import datasets, transforms\n",
        "\n",
        "img_size = 224\n",
        "common_tfms = transforms.Compose([\n",
        "    transforms.Resize((img_size, img_size)),\n",
        "    transforms.ToTensor(),\n",
        "    transforms.Normalize(mean=[0.485, 0.456, 0.406],\n",
        "                         std =[0.229, 0.224, 0.225]),\n",
        "])\n",
        "\n",
        "# One dataset with consistent ordering\n",
        "base_dataset = datasets.ImageFolder(dataset_dir, transform=common_tfms)\n",
        "paths = [p for p, _ in base_dataset.samples]\n",
        "\n",
        "# Extract student IDs (first token in filename)\n",
        "def get_sid(path):\n",
        "    fname = os.path.basename(path)\n",
        "    return fname.split(\"_\", 1)[0]\n",
        "\n",
        "groups = [get_sid(p) for p in paths]\n",
        "classes = base_dataset.classes\n",
        "print(\"Classes:\", classes, \"Num files:\", len(paths))\n"
      ],
      "metadata": {
        "colab": {
          "base_uri": "https://localhost:8080/"
        },
        "id": "_2nxZFkgLsLi",
        "outputId": "ca5d9eaa-ce16-4b4f-8c77-82c67f21fed7"
      },
      "execution_count": 7,
      "outputs": [
        {
          "output_type": "stream",
          "name": "stdout",
          "text": [
            "Classes: ['A', 'B', 'C', 'D', 'E', 'F', 'G', 'H', 'I'] Num files: 2432\n"
          ]
        }
      ]
    },
    {
      "cell_type": "code",
      "source": [
        "import pandas as pd\n",
        "from sklearn.model_selection import GroupShuffleSplit\n",
        "\n",
        "TEST_PCT = 0.15\n",
        "VAL_PCT  = 0.15\n",
        "TRAIN_PCT = 1.0 - TEST_PCT - VAL_PCT\n",
        "\n",
        "idx_all = pd.RangeIndex(len(paths))\n",
        "\n",
        "# Split test vs train+val\n",
        "gss1 = GroupShuffleSplit(n_splits=1, train_size=1.0-TEST_PCT, random_state=42)\n",
        "trainval_idx, test_idx = next(gss1.split(idx_all, groups=groups))\n",
        "\n",
        "# Split train vs val\n",
        "train_groups = [groups[i] for i in trainval_idx]\n",
        "gss2 = GroupShuffleSplit(n_splits=1, train_size=TRAIN_PCT/(TRAIN_PCT+VAL_PCT), random_state=123)\n",
        "train_idx_rel, val_idx_rel = next(gss2.split(trainval_idx, groups=train_groups))\n",
        "\n",
        "train_idx = trainval_idx[train_idx_rel]\n",
        "val_idx   = trainval_idx[val_idx_rel]\n",
        "\n",
        "# Sanity: no leakage of student IDs\n",
        "sid = lambda indices: set(get_sid(paths[i]) for i in indices)\n",
        "assert sid(train_idx).isdisjoint(sid(val_idx))\n",
        "assert sid(train_idx).isdisjoint(sid(test_idx))\n",
        "assert sid(val_idx).isdisjoint(sid(test_idx))\n",
        "\n",
        "print(f\"Counts → train: {len(train_idx)}, val: {len(val_idx)}, test: {len(test_idx)}\")\n"
      ],
      "metadata": {
        "colab": {
          "base_uri": "https://localhost:8080/"
        },
        "id": "llO3JY9ML9vJ",
        "outputId": "69014771-b8a7-42ac-bc16-30a8f5368c6c"
      },
      "execution_count": 8,
      "outputs": [
        {
          "output_type": "stream",
          "name": "stdout",
          "text": [
            "Counts → train: 1686, val: 375, test: 371\n"
          ]
        }
      ]
    },
    {
      "cell_type": "code",
      "source": [
        "from torch.utils.data import Subset, DataLoader\n",
        "\n",
        "ds_train = Subset(base_dataset, train_idx)\n",
        "ds_val   = Subset(base_dataset, val_idx)\n",
        "ds_test  = Subset(base_dataset, test_idx)\n",
        "\n",
        "BATCH_SIZE = 64\n",
        "NUM_WORKERS = 2\n",
        "PIN_MEMORY = True\n",
        "\n",
        "train_loader = DataLoader(ds_train, batch_size=BATCH_SIZE, shuffle=True,\n",
        "                          num_workers=NUM_WORKERS, pin_memory=PIN_MEMORY)\n",
        "val_loader   = DataLoader(ds_val,   batch_size=BATCH_SIZE, shuffle=False,\n",
        "                          num_workers=NUM_WORKERS, pin_memory=PIN_MEMORY)\n",
        "test_loader  = DataLoader(ds_test,  batch_size=BATCH_SIZE, shuffle=False,\n",
        "                          num_workers=NUM_WORKERS, pin_memory=PIN_MEMORY)\n",
        "\n",
        "print(\"Splits ready.\",\n",
        "      \"\\nTrain batches:\", len(train_loader),\n",
        "      \"\\nVal batches:\", len(val_loader),\n",
        "      \"\\nTest batches:\", len(test_loader))\n"
      ],
      "metadata": {
        "colab": {
          "base_uri": "https://localhost:8080/"
        },
        "id": "33GOMvRANPRb",
        "outputId": "bf42bd16-a73a-4dbd-eab9-8f17431c35b8"
      },
      "execution_count": 9,
      "outputs": [
        {
          "output_type": "stream",
          "name": "stdout",
          "text": [
            "Splits ready. \n",
            "Train batches: 27 \n",
            "Val batches: 6 \n",
            "Test batches: 6\n"
          ]
        }
      ]
    },
    {
      "cell_type": "code",
      "execution_count": null,
      "metadata": {
        "id": "osN3NBhdNtOC",
        "colab": {
          "base_uri": "https://localhost:8080/",
          "height": 178
        },
        "outputId": "63fcd646-3ed5-47e9-e1c3-c64f5c571cec"
      },
      "outputs": [
        {
          "output_type": "execute_result",
          "data": {
            "text/plain": [
              "'\\nPROVIDE YOUR ANSWER BELOW\\n\\nI split the dataset by student ID rather than by individual images. Each image \\nfilename includes the student identifier, the gesture class, and an index (for \\nexample, 1_A_1.jpg). I used the student ID as the grouping key, so that all images \\nfrom the same student remain together in a single split.\\n\\nThe splitting was done in two stages. First, I divided the dataset into a \\ntrain+validation portion and a test portion, making sure that no student appeared \\nin both. Then, I split the train+validation portion again into training and validation \\nsets, also by student ID. This gave me three disjoint sets of students: one set \\nfor training, one set for validation, and one set for testing.\\n\\nThis strategy was chosen to prevent data leakage. If I had split randomly by \\nimages, the same student’s hand could appear in both the training and test sets, \\nwhich would make the task artificially easier and inflate accuracy. By splitting \\nby subject, the test set contains only unseen hands, which better reflects \\nreal-world deployment.\\n\\nAs a result of this split, about 70% (1686) of the images are used for training, \\n15% (375) for validation, and 15% (371) for testing. The key point is that each \\nset contains different students, ensuring a fair evaluation of the model.\\n\\n\\n\\n\\n'"
            ],
            "application/vnd.google.colaboratory.intrinsic+json": {
              "type": "string"
            }
          },
          "metadata": {},
          "execution_count": 6
        }
      ],
      "source": [
        "'''\n",
        "PROVIDE YOUR ANSWER BELOW\n",
        "\n",
        "I split the dataset by student ID rather than by individual images. Each image\n",
        "filename includes the student identifier, the gesture class, and an index (for\n",
        "example, 1_A_1.jpg). I used the student ID as the grouping key, so that all images\n",
        "from the same student remain together in a single split.\n",
        "\n",
        "The splitting was done in two stages. First, I divided the dataset into a\n",
        "train+validation portion and a test portion, making sure that no student appeared\n",
        "in both. Then, I split the train+validation portion again into training and validation\n",
        "sets, also by student ID. This gave me three disjoint sets of students: one set\n",
        "for training, one set for validation, and one set for testing.\n",
        "\n",
        "This strategy was chosen to prevent data leakage. If I had split randomly by\n",
        "images, the same student’s hand could appear in both the training and test sets,\n",
        "which would make the task artificially easier and inflate accuracy. By splitting\n",
        "by subject, the test set contains only unseen hands, which better reflects\n",
        "real-world deployment.\n",
        "\n",
        "As a result of this split, about 70% (1686) of the images are used for training,\n",
        "15% (375) for validation, and 15% (371) for testing. The key point is that each\n",
        "set contains different students, ensuring a fair evaluation of the model.\n",
        "\n",
        "\n",
        "\n",
        "\n",
        "'''"
      ]
    },
    {
      "cell_type": "markdown",
      "metadata": {
        "id": "5VWX4DGY5gQE"
      },
      "source": [
        "## Part 2. Model Building and Sanity Checking [5pt]\n",
        "\n",
        "### Part (i) Convolutional Network [2pt MODEL]\n",
        "\n",
        "Build a convolutional neural network model that takes the (224x224 RGB) image as input, and predicts the gesture\n",
        "letter. Your model should be a subclass of nn.Module. Explain your choice of neural network architecture: how\n",
        "many layers did you choose? What types of layers did you use? Were they fully-connected or convolutional?\n",
        "What about other decisions like pooling layers, activation functions, number of channels / hidden units?"
      ]
    },
    {
      "cell_type": "code",
      "source": [
        "import torch.nn as nn\n",
        "import torch.nn.functional as F\n",
        "\n",
        "class HandCNN(nn.Module):\n",
        "    def __init__(self, num_classes):\n",
        "        super().__init__()\n",
        "        self.conv1 = nn.Conv2d(3, 16, 3, padding=1)\n",
        "        self.pool  = nn.MaxPool2d(2,2)          # 224->112->56\n",
        "        self.conv2 = nn.Conv2d(16, 32, 3, padding=1)\n",
        "        self.fc1   = nn.Linear(32 * 56 * 56, 128)\n",
        "        self.fc2   = nn.Linear(128, num_classes)\n",
        "\n",
        "    def forward(self, x):\n",
        "        x = self.pool(F.relu(self.conv1(x)))    # 16x112x112\n",
        "        x = self.pool(F.relu(self.conv2(x)))    # 32x56x56\n",
        "        x = x.view(x.size(0), -1)\n",
        "        x = F.relu(self.fc1(x))\n",
        "        return self.fc2(x)\n"
      ],
      "metadata": {
        "id": "qONLvRLFcSU_"
      },
      "execution_count": 30,
      "outputs": []
    },
    {
      "cell_type": "code",
      "execution_count": null,
      "metadata": {
        "id": "h5TMfSuiNqbJ"
      },
      "outputs": [],
      "source": [
        "'''\n",
        "PROVIDE YOUR ANSWER BELOW\n",
        "\n",
        "The network has two convolutional layers and two fully connected layers. The first\n",
        "convolution takes the 3-channel RGB input and produces 16 output feature maps,\n",
        "while the second convolution takes those 16 and produces 32. Increasing the number\n",
        "of output channels lets the network learn richer patterns at deeper layers. Each\n",
        "convolution is followed by ReLU activation and max pooling, which reduces the\n",
        "spatial size from 224×224 to 112×112 and then to 56×56, lowering computation and\n",
        "helping the model focus on key features. After flattening, a fully connected layer\n",
        "with 128 hidden units combines the learned features into a compact representation,\n",
        "and the final fully connected layer maps this to the number of gesture classes.\n",
        "This setup keeps the model simple enough to train efficiently while still expressive\n",
        "enough to capture meaningful hand gesture features.\n",
        "\n",
        "\n",
        "\n",
        "\n",
        "'''"
      ]
    },
    {
      "cell_type": "markdown",
      "metadata": {
        "id": "XeGvelvb515e"
      },
      "source": [
        "### Part (ii) Training Code [2pt MODEL]\n",
        "\n",
        "Write code that trains your neural network given some training data. Your training code should make it easy\n",
        "to tweak the usual hyperparameters, like batch size, learning rate, and the model object itself. Make sure\n",
        "that you are checkpointing your models from time to time (the frequency is up to you). Explain your choice\n",
        "of loss function and optimizer."
      ]
    },
    {
      "cell_type": "code",
      "source": [
        "def train_model(model, ds_train, ds_val,\n",
        "                batch_size=64, lr=1e-3, epochs=10,\n",
        "                ckpt_dir=\"checkpoints\", ckpt_every=3,\n",
        "                num_workers=2, pin_memory=True,\n",
        "                metrics_list=None, run_name=None):\n",
        "    \"\"\"\n",
        "    Required hyperparams:\n",
        "      - model (nn.Module instance you pass in)\n",
        "      - batch_size\n",
        "      - lr\n",
        "    \"\"\"\n",
        "\n",
        "    import os, time, torch\n",
        "    import torch.nn as nn\n",
        "    from torch.utils.data import DataLoader\n",
        "    from torch.optim import Adam\n",
        "\n",
        "    device = torch.device(\"cuda\" if torch.cuda.is_available() else \"cpu\")\n",
        "    model = model.to(device)\n",
        "\n",
        "    train_loader = DataLoader(ds_train, batch_size=batch_size, shuffle=True,\n",
        "                              num_workers=num_workers, pin_memory=pin_memory)\n",
        "    val_loader   = DataLoader(ds_val,   batch_size=batch_size, shuffle=False,\n",
        "                              num_workers=num_workers, pin_memory=pin_memory)\n",
        "\n",
        "    criterion = nn.CrossEntropyLoss()\n",
        "    optimizer = Adam(model.parameters(), lr=lr)\n",
        "\n",
        "    os.makedirs(ckpt_dir, exist_ok=True)\n",
        "    best_val_acc = 0.0\n",
        "    best_path = os.path.join(ckpt_dir, \"best.pt\")\n",
        "\n",
        "    for epoch in range(1, epochs + 1):\n",
        "        t0 = time.time()\n",
        "\n",
        "        # ---- Train (accumulate for epoch) ----\n",
        "        model.train()\n",
        "        train_loss_sum, train_correct, train_total = 0.0, 0, 0\n",
        "        for x, y in train_loader:\n",
        "            x, y = x.to(device), y.to(device)\n",
        "            optimizer.zero_grad()\n",
        "            logits = model(x)\n",
        "            loss = criterion(logits, y)\n",
        "            loss.backward()\n",
        "            optimizer.step()\n",
        "\n",
        "            train_loss_sum += loss.item() * x.size(0)\n",
        "            train_correct  += (logits.argmax(1) == y).sum().item()\n",
        "            train_total    += y.size(0)\n",
        "\n",
        "        train_loss = train_loss_sum / max(1, train_total)\n",
        "        train_acc  = train_correct  / max(1, train_total)\n",
        "\n",
        "        # ---- Validation (epoch-level) ----\n",
        "        model.eval()\n",
        "        val_loss_sum, val_correct, val_total = 0.0, 0, 0\n",
        "        with torch.no_grad():\n",
        "            for x, y in val_loader:\n",
        "                x, y = x.to(device), y.to(device)\n",
        "                logits = model(x)\n",
        "                loss = criterion(logits, y)\n",
        "                val_loss_sum += loss.item() * x.size(0)\n",
        "                val_correct  += (logits.argmax(1) == y).sum().item()\n",
        "                val_total    += y.size(0)\n",
        "\n",
        "        val_loss = val_loss_sum / max(1, val_total)\n",
        "        val_acc  = val_correct  / max(1, val_total)\n",
        "\n",
        "        # ---- Checkpointing ----\n",
        "        if epoch % ckpt_every == 0:\n",
        "            torch.save(model.state_dict(), os.path.join(ckpt_dir, f\"epoch_{epoch:03d}.pt\"))\n",
        "        if val_acc > best_val_acc:\n",
        "            best_val_acc = val_acc\n",
        "            torch.save(model.state_dict(), best_path)\n",
        "\n",
        "        # ---- collect metrics for plotting ----\n",
        "        if metrics_list is not None:\n",
        "            metrics_list.append( (epoch, train_loss, train_acc, val_loss, val_acc) )\n",
        "\n",
        "        print(f\"Epoch {epoch:02d}/{epochs} | \"\n",
        "              f\"Train {train_loss:.4f}/{train_acc*100:5.2f}% | \"\n",
        "              f\"Val {val_loss:.4f}/{val_acc*100:5.2f}% | \"\n",
        "              f\"Time {time.time()-t0:.1f}s  [{run_name or 'run'}]\")\n",
        "\n",
        "    print(f\"Best validation accuracy: {best_val_acc*100:.2f}% (saved at {best_path})\")\n",
        "    return model, best_path\n",
        "\n",
        "\n"
      ],
      "metadata": {
        "id": "I0pqLZ9KukhG"
      },
      "execution_count": 32,
      "outputs": []
    },
    {
      "cell_type": "code",
      "execution_count": null,
      "metadata": {
        "id": "kQNirDVYa7Gt"
      },
      "outputs": [],
      "source": [
        "'''\n",
        "PROVIDE YOUR ANSWER BELOW\n",
        "\n",
        "I used nn.CrossEntropyLoss() because this is a 9-class classification task and\n",
        "the model outputs raw logits. Cross-entropy applies a softmax internally and\n",
        "penalizes wrong class probabilities, which is the standard, numerically stable\n",
        "choice for multi-class CNNs.\n",
        "\n",
        "I used Adam as the optimizer since it adapts the learning rate per parameter and\n",
        "usually converges faster and with less tuning than plain SGD. It handles noisy\n",
        "gradients well and works reliably for small and medium CNNs like mine.\n",
        "\n",
        "\n",
        "'''"
      ]
    },
    {
      "cell_type": "markdown",
      "metadata": {
        "id": "bk1RNgAj54rZ"
      },
      "source": [
        "### Part (iii) “Overfit” to a Small Dataset - [1pt MODEL]\n",
        "\n",
        "One way to sanity check our neural network model and training code is to check whether the model is capable\n",
        "of “overfitting” or “memorizing” a small dataset. A properly constructed CNN with correct training code\n",
        "should be able to memorize the answers to a small number of images quickly.\n",
        "\n",
        "Construct a small dataset (e.g. just the images that you have collected). Then show that your model and\n",
        "training code is capable of memorizing the labels of this small data set.\n",
        "\n",
        "With a large batch size (e.g. the entire small dataset) and learning rate that is not too high, you should be\n",
        "able to obtain a 100% training accuracy on that small dataset relatively quickly (within 200 iterations)."
      ]
    },
    {
      "cell_type": "code",
      "source": [
        "#!rm -rf Zhao_1005843991"
      ],
      "metadata": {
        "id": "kj31S2IPkg_7"
      },
      "execution_count": 24,
      "outputs": []
    },
    {
      "cell_type": "code",
      "source": [
        "# load small dataset to Google Colab\n",
        "from google.colab import files\n",
        "uploaded = files.upload()"
      ],
      "metadata": {
        "colab": {
          "base_uri": "https://localhost:8080/",
          "height": 74
        },
        "id": "PeRE0UY3iO5j",
        "outputId": "33a0a477-df13-4987-863d-257c4112965e"
      },
      "execution_count": 21,
      "outputs": [
        {
          "output_type": "display_data",
          "data": {
            "text/plain": [
              "<IPython.core.display.HTML object>"
            ],
            "text/html": [
              "\n",
              "     <input type=\"file\" id=\"files-2fe61648-5f2b-4c5b-91c9-c63d42118403\" name=\"files[]\" multiple disabled\n",
              "        style=\"border:none\" />\n",
              "     <output id=\"result-2fe61648-5f2b-4c5b-91c9-c63d42118403\">\n",
              "      Upload widget is only available when the cell has been executed in the\n",
              "      current browser session. Please rerun this cell to enable.\n",
              "      </output>\n",
              "      <script>// Copyright 2017 Google LLC\n",
              "//\n",
              "// Licensed under the Apache License, Version 2.0 (the \"License\");\n",
              "// you may not use this file except in compliance with the License.\n",
              "// You may obtain a copy of the License at\n",
              "//\n",
              "//      http://www.apache.org/licenses/LICENSE-2.0\n",
              "//\n",
              "// Unless required by applicable law or agreed to in writing, software\n",
              "// distributed under the License is distributed on an \"AS IS\" BASIS,\n",
              "// WITHOUT WARRANTIES OR CONDITIONS OF ANY KIND, either express or implied.\n",
              "// See the License for the specific language governing permissions and\n",
              "// limitations under the License.\n",
              "\n",
              "/**\n",
              " * @fileoverview Helpers for google.colab Python module.\n",
              " */\n",
              "(function(scope) {\n",
              "function span(text, styleAttributes = {}) {\n",
              "  const element = document.createElement('span');\n",
              "  element.textContent = text;\n",
              "  for (const key of Object.keys(styleAttributes)) {\n",
              "    element.style[key] = styleAttributes[key];\n",
              "  }\n",
              "  return element;\n",
              "}\n",
              "\n",
              "// Max number of bytes which will be uploaded at a time.\n",
              "const MAX_PAYLOAD_SIZE = 100 * 1024;\n",
              "\n",
              "function _uploadFiles(inputId, outputId) {\n",
              "  const steps = uploadFilesStep(inputId, outputId);\n",
              "  const outputElement = document.getElementById(outputId);\n",
              "  // Cache steps on the outputElement to make it available for the next call\n",
              "  // to uploadFilesContinue from Python.\n",
              "  outputElement.steps = steps;\n",
              "\n",
              "  return _uploadFilesContinue(outputId);\n",
              "}\n",
              "\n",
              "// This is roughly an async generator (not supported in the browser yet),\n",
              "// where there are multiple asynchronous steps and the Python side is going\n",
              "// to poll for completion of each step.\n",
              "// This uses a Promise to block the python side on completion of each step,\n",
              "// then passes the result of the previous step as the input to the next step.\n",
              "function _uploadFilesContinue(outputId) {\n",
              "  const outputElement = document.getElementById(outputId);\n",
              "  const steps = outputElement.steps;\n",
              "\n",
              "  const next = steps.next(outputElement.lastPromiseValue);\n",
              "  return Promise.resolve(next.value.promise).then((value) => {\n",
              "    // Cache the last promise value to make it available to the next\n",
              "    // step of the generator.\n",
              "    outputElement.lastPromiseValue = value;\n",
              "    return next.value.response;\n",
              "  });\n",
              "}\n",
              "\n",
              "/**\n",
              " * Generator function which is called between each async step of the upload\n",
              " * process.\n",
              " * @param {string} inputId Element ID of the input file picker element.\n",
              " * @param {string} outputId Element ID of the output display.\n",
              " * @return {!Iterable<!Object>} Iterable of next steps.\n",
              " */\n",
              "function* uploadFilesStep(inputId, outputId) {\n",
              "  const inputElement = document.getElementById(inputId);\n",
              "  inputElement.disabled = false;\n",
              "\n",
              "  const outputElement = document.getElementById(outputId);\n",
              "  outputElement.innerHTML = '';\n",
              "\n",
              "  const pickedPromise = new Promise((resolve) => {\n",
              "    inputElement.addEventListener('change', (e) => {\n",
              "      resolve(e.target.files);\n",
              "    });\n",
              "  });\n",
              "\n",
              "  const cancel = document.createElement('button');\n",
              "  inputElement.parentElement.appendChild(cancel);\n",
              "  cancel.textContent = 'Cancel upload';\n",
              "  const cancelPromise = new Promise((resolve) => {\n",
              "    cancel.onclick = () => {\n",
              "      resolve(null);\n",
              "    };\n",
              "  });\n",
              "\n",
              "  // Wait for the user to pick the files.\n",
              "  const files = yield {\n",
              "    promise: Promise.race([pickedPromise, cancelPromise]),\n",
              "    response: {\n",
              "      action: 'starting',\n",
              "    }\n",
              "  };\n",
              "\n",
              "  cancel.remove();\n",
              "\n",
              "  // Disable the input element since further picks are not allowed.\n",
              "  inputElement.disabled = true;\n",
              "\n",
              "  if (!files) {\n",
              "    return {\n",
              "      response: {\n",
              "        action: 'complete',\n",
              "      }\n",
              "    };\n",
              "  }\n",
              "\n",
              "  for (const file of files) {\n",
              "    const li = document.createElement('li');\n",
              "    li.append(span(file.name, {fontWeight: 'bold'}));\n",
              "    li.append(span(\n",
              "        `(${file.type || 'n/a'}) - ${file.size} bytes, ` +\n",
              "        `last modified: ${\n",
              "            file.lastModifiedDate ? file.lastModifiedDate.toLocaleDateString() :\n",
              "                                    'n/a'} - `));\n",
              "    const percent = span('0% done');\n",
              "    li.appendChild(percent);\n",
              "\n",
              "    outputElement.appendChild(li);\n",
              "\n",
              "    const fileDataPromise = new Promise((resolve) => {\n",
              "      const reader = new FileReader();\n",
              "      reader.onload = (e) => {\n",
              "        resolve(e.target.result);\n",
              "      };\n",
              "      reader.readAsArrayBuffer(file);\n",
              "    });\n",
              "    // Wait for the data to be ready.\n",
              "    let fileData = yield {\n",
              "      promise: fileDataPromise,\n",
              "      response: {\n",
              "        action: 'continue',\n",
              "      }\n",
              "    };\n",
              "\n",
              "    // Use a chunked sending to avoid message size limits. See b/62115660.\n",
              "    let position = 0;\n",
              "    do {\n",
              "      const length = Math.min(fileData.byteLength - position, MAX_PAYLOAD_SIZE);\n",
              "      const chunk = new Uint8Array(fileData, position, length);\n",
              "      position += length;\n",
              "\n",
              "      const base64 = btoa(String.fromCharCode.apply(null, chunk));\n",
              "      yield {\n",
              "        response: {\n",
              "          action: 'append',\n",
              "          file: file.name,\n",
              "          data: base64,\n",
              "        },\n",
              "      };\n",
              "\n",
              "      let percentDone = fileData.byteLength === 0 ?\n",
              "          100 :\n",
              "          Math.round((position / fileData.byteLength) * 100);\n",
              "      percent.textContent = `${percentDone}% done`;\n",
              "\n",
              "    } while (position < fileData.byteLength);\n",
              "  }\n",
              "\n",
              "  // All done.\n",
              "  yield {\n",
              "    response: {\n",
              "      action: 'complete',\n",
              "    }\n",
              "  };\n",
              "}\n",
              "\n",
              "scope.google = scope.google || {};\n",
              "scope.google.colab = scope.google.colab || {};\n",
              "scope.google.colab._files = {\n",
              "  _uploadFiles,\n",
              "  _uploadFilesContinue,\n",
              "};\n",
              "})(self);\n",
              "</script> "
            ]
          },
          "metadata": {}
        },
        {
          "output_type": "stream",
          "name": "stdout",
          "text": [
            "Saving Zhao_1005843991.zip to Zhao_1005843991.zip\n"
          ]
        }
      ]
    },
    {
      "cell_type": "code",
      "source": [
        "import zipfile, os\n",
        "\n",
        "zip_path = \"Zhao_1005843991.zip\"\n",
        "extract_dir = \"Zhao_1005843991\"\n",
        "\n",
        "# Extract only if not already done\n",
        "if not os.path.exists(extract_dir):\n",
        "    with zipfile.ZipFile(zip_path, 'r') as zip_ref:\n",
        "        zip_ref.extractall(extract_dir)\n",
        "\n",
        "print(\"Extracted to:\", extract_dir)"
      ],
      "metadata": {
        "colab": {
          "base_uri": "https://localhost:8080/"
        },
        "id": "M8nLthXSiocU",
        "outputId": "a45da77a-f92f-4cd4-a14e-67ade5319612"
      },
      "execution_count": 22,
      "outputs": [
        {
          "output_type": "stream",
          "name": "stdout",
          "text": [
            "Extracted to: Zhao_1005843991\n"
          ]
        }
      ]
    },
    {
      "cell_type": "code",
      "source": [
        "# there's a image mistakenly in heic format instead of jpg, I correct it here.\n",
        "\n",
        "!pip -q install pillow-heif\n",
        "import pillow_heif\n",
        "pillow_heif.register_heif_opener()\n"
      ],
      "metadata": {
        "colab": {
          "base_uri": "https://localhost:8080/"
        },
        "id": "dsEDazDJmNRB",
        "outputId": "33d98fb4-532a-4365-bdbf-8b6f38ffe83a"
      },
      "execution_count": 23,
      "outputs": [
        {
          "output_type": "stream",
          "name": "stdout",
          "text": [
            "\u001b[?25l   \u001b[90m━━━━━━━━━━━━━━━━━━━━━━━━━━━━━━━━━━━━━━━━\u001b[0m \u001b[32m0.0/5.5 MB\u001b[0m \u001b[31m?\u001b[0m eta \u001b[36m-:--:--\u001b[0m\r\u001b[2K   \u001b[91m━\u001b[0m\u001b[91m╸\u001b[0m\u001b[90m━━━━━━━━━━━━━━━━━━━━━━━━━━━━━━━━━━━━━━\u001b[0m \u001b[32m0.3/5.5 MB\u001b[0m \u001b[31m8.1 MB/s\u001b[0m eta \u001b[36m0:00:01\u001b[0m\r\u001b[2K   \u001b[91m━━━━━━━━━━━━━━\u001b[0m\u001b[91m╸\u001b[0m\u001b[90m━━━━━━━━━━━━━━━━━━━━━━━━━\u001b[0m \u001b[32m2.1/5.5 MB\u001b[0m \u001b[31m29.8 MB/s\u001b[0m eta \u001b[36m0:00:01\u001b[0m\r\u001b[2K   \u001b[91m━━━━━━━━━━━━━━━━━━━━━━━━━━━━━━━━━━━━━━━\u001b[0m\u001b[91m╸\u001b[0m \u001b[32m5.5/5.5 MB\u001b[0m \u001b[31m60.7 MB/s\u001b[0m eta \u001b[36m0:00:01\u001b[0m\r\u001b[2K   \u001b[90m━━━━━━━━━━━━━━━━━━━━━━━━━━━━━━━━━━━━━━━━\u001b[0m \u001b[32m5.5/5.5 MB\u001b[0m \u001b[31m46.3 MB/s\u001b[0m eta \u001b[36m0:00:00\u001b[0m\n",
            "\u001b[?25h"
          ]
        }
      ]
    },
    {
      "cell_type": "code",
      "source": [
        "import os, glob\n",
        "from PIL import Image\n",
        "\n",
        "src = \"Zhao_1005843991\"        # extracted folder\n",
        "dst = \"Zhao_1005843991_fixed\"  # new clean folder with real JPEGs\n",
        "os.makedirs(dst, exist_ok=True)\n",
        "\n",
        "bad = []\n",
        "count = 0\n",
        "for p in sorted(glob.glob(os.path.join(src, \"*\"))):\n",
        "    name = os.path.basename(p)\n",
        "    if name.startswith(\".\") or \"__MACOSX\" in p:\n",
        "        continue\n",
        "    try:\n",
        "        im = Image.open(p)         # works for HEIC now that pillow-heif is registered\n",
        "        im = im.convert(\"RGB\")\n",
        "        # keep original basename but force .jpg extension\n",
        "        base = os.path.splitext(name)[0] + \".jpg\"\n",
        "        outp = os.path.join(dst, base)\n",
        "        im.save(outp, format=\"JPEG\", quality=95)\n",
        "        count += 1\n",
        "    except Exception as e:\n",
        "        bad.append((name, str(e)))\n",
        "\n",
        "print(f\"Saved {count} real JPEGs to {dst}\")\n",
        "if bad:\n",
        "    print(\"Skipped/unreadable:\")\n",
        "    for n, msg in bad:\n",
        "        print(\" -\", n, \"|\", msg)\n"
      ],
      "metadata": {
        "colab": {
          "base_uri": "https://localhost:8080/"
        },
        "id": "TngzY5pMmRXn",
        "outputId": "3878881b-ede4-4803-f6fd-11a91c5d2264"
      },
      "execution_count": 24,
      "outputs": [
        {
          "output_type": "stream",
          "name": "stdout",
          "text": [
            "Saved 27 real JPEGs to Zhao_1005843991_fixed\n"
          ]
        }
      ]
    },
    {
      "cell_type": "code",
      "source": [
        "# ==== Part (iii): Overfit a tiny dataset (memorization check) — with curves ====\n",
        "\n",
        "import os, glob, time, torch\n",
        "import torch.nn as nn\n",
        "from torch.utils.data import Dataset, DataLoader\n",
        "from PIL import Image\n",
        "from torchvision import transforms\n",
        "import matplotlib.pyplot as plt\n",
        "\n",
        "# --- Tiny dataset\n",
        "class TinyHandDataset(Dataset):\n",
        "    def __init__(self, folder):\n",
        "        self.paths = sorted(glob.glob(os.path.join(folder, \"*.jpg\")))\n",
        "        assert len(self.paths) > 0, f\"No .jpg files found in {folder}\"\n",
        "        labels = [os.path.basename(p).split(\"_\")[1].upper() for p in self.paths]\n",
        "        self.classes = sorted(set(labels))\n",
        "        self.class_to_idx = {c:i for i,c in enumerate(self.classes)}\n",
        "        self.y = [self.class_to_idx[l] for l in labels]\n",
        "        # Images already 224x224; no resize needed\n",
        "        self.tfms = transforms.Compose([transforms.ToTensor()])\n",
        "    def __len__(self): return len(self.paths)\n",
        "    def __getitem__(self, i):\n",
        "        img = Image.open(self.paths[i]).convert(\"RGB\")\n",
        "        return self.tfms(img), self.y[i]\n",
        "\n",
        "# --- Load tiny set\n",
        "tiny_folder = \"Zhao_1005843991_fixed\"  # adjust if needed\n",
        "tiny_ds = TinyHandDataset(tiny_folder)\n",
        "print(f\"Tiny dataset: {len(tiny_ds)} images, classes = {tiny_ds.classes}\")\n",
        "\n",
        "# --- Full-batch loader (one batch per epoch)\n",
        "tiny_loader = DataLoader(tiny_ds, batch_size=len(tiny_ds), shuffle=True)\n",
        "\n",
        "# --- Model\n",
        "num_classes_tiny = len(tiny_ds.classes)\n",
        "model = HandCNN(num_classes=num_classes_tiny)  # swap name if your class differs\n",
        "\n",
        "# --- Training setup\n",
        "device = torch.device(\"cuda\" if torch.cuda.is_available() else \"cpu\")\n",
        "model = model.to(device)\n",
        "criterion = nn.CrossEntropyLoss()\n",
        "optimizer = torch.optim.Adam(model.parameters(), lr=1e-2)  # if unstable, try 1e-3\n",
        "\n",
        "# --- Train until 100% acc or 200 epochs; save checkpoints; collect metrics\n",
        "os.makedirs(\"checkpoints_overfit\", exist_ok=True)\n",
        "best_acc = 0.0\n",
        "\n",
        "# metrics_list will store tuples: (epoch, train_loss, train_acc)\n",
        "metrics_list = []\n",
        "\n",
        "for epoch in range(1, 201):\n",
        "    model.train()\n",
        "    epoch_loss_sum, epoch_correct, epoch_total = 0.0, 0, 0\n",
        "\n",
        "    # one full batch per epoch\n",
        "    for x, y in tiny_loader:\n",
        "        x, y = x.to(device), y.to(device)\n",
        "        optimizer.zero_grad()\n",
        "        logits = model(x)\n",
        "        loss = criterion(logits, y)\n",
        "        loss.backward()\n",
        "        optimizer.step()\n",
        "\n",
        "        # accumulate epoch metrics\n",
        "        epoch_loss_sum += loss.item() * x.size(0)\n",
        "        epoch_correct  += (logits.argmax(1) == y).sum().item()\n",
        "        epoch_total    += y.size(0)\n",
        "\n",
        "    # epoch-level metrics\n",
        "    train_loss = epoch_loss_sum / max(1, epoch_total)\n",
        "    train_acc  = epoch_correct  / max(1, epoch_total)\n",
        "\n",
        "    # collect for plotting\n",
        "    metrics_list.append((epoch, train_loss, train_acc))\n",
        "\n",
        "    # checkpoints\n",
        "    if epoch % 20 == 0:\n",
        "        torch.save(model.state_dict(), f\"checkpoints_overfit/epoch_{epoch:03d}.pt\")\n",
        "    if train_acc > best_acc:\n",
        "        best_acc = train_acc\n",
        "        torch.save(model.state_dict(), \"checkpoints_overfit/best.pt\")\n",
        "\n",
        "    print(f\"Epoch {epoch:03d} | loss={train_loss:.4f} | train acc={train_acc*100:.1f}%\")\n",
        "    if train_acc == 1.0:\n",
        "        print(\"✅ Reached 100% training accuracy (memorized the tiny dataset).\")\n",
        "        break\n",
        "\n",
        "# --- Plot curves (Training Accuracy and Training Loss)\n",
        "epochs     = [e for (e, _, _) in metrics_list]\n",
        "train_loss = [l for (_, l, _) in metrics_list]\n",
        "train_acc  = [a for (_, _, a) in metrics_list]\n",
        "\n",
        "plt.figure(figsize=(7,4))\n",
        "plt.plot(epochs, train_acc)\n",
        "plt.xlabel(\"Epoch\"); plt.ylabel(\"Training Accuracy\")\n",
        "plt.title(\"Tiny-Set Overfit — Training Accuracy\")\n",
        "plt.grid(True)\n",
        "plt.show()\n",
        "\n",
        "plt.figure(figsize=(7,4))\n",
        "plt.plot(epochs, train_loss)\n",
        "plt.xlabel(\"Epoch\"); plt.ylabel(\"Training Loss\")\n",
        "plt.title(\"Tiny-Set Overfit — Training Loss\")\n",
        "plt.grid(True)\n",
        "plt.show()\n"
      ],
      "metadata": {
        "colab": {
          "base_uri": "https://localhost:8080/",
          "height": 1000
        },
        "id": "6bofCDwzvS2v",
        "outputId": "fd07c69f-f70b-4f71-fdab-3d6bdcb2460e"
      },
      "execution_count": 13,
      "outputs": [
        {
          "output_type": "stream",
          "name": "stdout",
          "text": [
            "Tiny dataset: 27 images, classes = ['A', 'B', 'C', 'D', 'E', 'F', 'G', 'H', 'I']\n",
            "Epoch 001 | loss=2.1986 | train acc=11.1%\n",
            "Epoch 002 | loss=28.8871 | train acc=22.2%\n",
            "Epoch 003 | loss=14.5547 | train acc=11.1%\n",
            "Epoch 004 | loss=3.0362 | train acc=22.2%\n",
            "Epoch 005 | loss=2.9879 | train acc=11.1%\n",
            "Epoch 006 | loss=2.3221 | train acc=33.3%\n",
            "Epoch 007 | loss=5.1310 | train acc=18.5%\n",
            "Epoch 008 | loss=2.4381 | train acc=44.4%\n",
            "Epoch 009 | loss=1.8265 | train acc=44.4%\n",
            "Epoch 010 | loss=1.6831 | train acc=48.1%\n",
            "Epoch 011 | loss=1.4332 | train acc=48.1%\n",
            "Epoch 012 | loss=1.0361 | train acc=77.8%\n",
            "Epoch 013 | loss=0.5854 | train acc=88.9%\n",
            "Epoch 014 | loss=0.2790 | train acc=96.3%\n",
            "Epoch 015 | loss=0.1718 | train acc=96.3%\n",
            "Epoch 016 | loss=0.1103 | train acc=96.3%\n",
            "Epoch 017 | loss=0.0344 | train acc=100.0%\n",
            "✅ Reached 100% training accuracy (memorized the tiny dataset).\n"
          ]
        },
        {
          "output_type": "display_data",
          "data": {
            "text/plain": [
              "<Figure size 700x400 with 1 Axes>"
            ],
            "image/png": "[encoded data removed]"
          },
          "metadata": {}
        },
        {
          "output_type": "display_data",
          "data": {
            "text/plain": [
              "<Figure size 700x400 with 1 Axes>"
            ],
            "image/png": "[encoded data removed]"
          },
          "metadata": {}
        }
      ]
    },
    {
      "cell_type": "markdown",
      "metadata": {
        "id": "nvDLw-Vz6eVS"
      },
      "source": [
        "## Part 3. Hyperparameter Search [7pt]\n",
        "\n",
        "### Part (i) - [2pt EXPLORATORY]\n",
        "\n",
        "Select three hyperparameters to tune, one from each of the following categories:\n",
        "\n",
        "1. Optimizer-related (e.g., learning rate, weight decay)\n",
        "\n",
        "2. Architecture-related (e.g., number of filters, dropout rate, number of output channels)\n",
        "\n",
        "3. Training Process (e.g., number of epochs, batch size)\n",
        "\n",
        "Briefly justify why you chose these three."
      ]
    },
    {
      "cell_type": "code",
      "execution_count": null,
      "metadata": {
        "id": "Q04SaRRjbFCR"
      },
      "outputs": [],
      "source": [
        "'''\n",
        "PROVIDE YOUR ANSWER BELOW\n",
        "\n",
        "For the optimizer-related hyperparameter, I chose the learning rate, as it\n",
        "strongly affects convergence speed and stability. For the architecture-related\n",
        "category, I selected the number of convolutional filters, since it controls the\n",
        "model’s feature extraction capacity. For the training process, I chose batch size,\n",
        "which influences gradient estimates, computation efficiency, and generalization.\n",
        "Together, these three hyperparameters cover the main aspects of model optimization,\n",
        "architecture complexity, and training dynamics.\n",
        "\n",
        "\n",
        "\n",
        "\n",
        "'''"
      ]
    },
    {
      "cell_type": "markdown",
      "metadata": {
        "id": "zeD6EzPB6kSW"
      },
      "source": [
        "### Part (ii) - [1pt MODEL]\n",
        "\n",
        "Tune the hyperparameters you listed in Part (i), trying as many values as you need to until you feel satisfied\n",
        "that you are getting a good model. Plot the training curve of at least 4 different hyperparameter settings."
      ]
    },
    {
      "cell_type": "code",
      "source": [
        "# tuning learning rate\n",
        "\n",
        "import matplotlib.pyplot as plt\n",
        "\n",
        "def get_curve(series, idx):  # helper to extract a metric by index\n",
        "    # series entries are (epoch, train_loss, train_acc, val_loss, val_acc)\n",
        "    return [row[idx] for row in series]\n",
        "\n",
        "configs = [\n",
        "    {\"name\": \"lr=1e-2\", \"lr\": 1e-2, \"bs\": 64},\n",
        "    {\"name\": \"lr=1e-4\", \"lr\": 1e-4, \"bs\": 64},\n",
        "]\n",
        "\n",
        "curves = {}   # name -> list of (epoch, train_loss, train_acc, val_loss, val_acc)\n",
        "\n",
        "for cfg in configs:\n",
        "    print(f\"\\n=== {cfg['name']} ===\")\n",
        "    metrics = []\n",
        "    model = HandCNN(num_classes=len(classes))\n",
        "    _m, _best = train_model(\n",
        "        model, ds_train, ds_val,\n",
        "        batch_size=cfg[\"bs\"], lr=cfg[\"lr\"], epochs=15,\n",
        "        ckpt_dir=f\"checkpoints_{cfg['name'].replace('=','')}\",\n",
        "        ckpt_every=3,\n",
        "        metrics_list=metrics, run_name=cfg[\"name\"]\n",
        "    )\n",
        "    curves[cfg[\"name\"]] = metrics\n"
      ],
      "metadata": {
        "colab": {
          "base_uri": "https://localhost:8080/"
        },
        "id": "GX5xPcS0wvro",
        "outputId": "85a048ac-36c8-49f0-807f-866d4f3e66e0"
      },
      "execution_count": 16,
      "outputs": [
        {
          "output_type": "stream",
          "name": "stdout",
          "text": [
            "\n",
            "=== lr=1e-2 ===\n"
          ]
        },
        {
          "output_type": "stream",
          "name": "stderr",
          "text": [
            "/usr/local/lib/python3.12/dist-packages/torch/utils/data/dataloader.py:666: UserWarning: 'pin_memory' argument is set as true but no accelerator is found, then device pinned memory won't be used.\n",
            "  warnings.warn(warn_msg)\n"
          ]
        },
        {
          "output_type": "stream",
          "name": "stdout",
          "text": [
            "Epoch 01/15 | Train 10.5355/12.04% | Val 2.1987/11.20% | Time 113.5s  [lr=1e-2]\n",
            "Epoch 02/15 | Train 2.1992/10.74% | Val 2.1974/11.20% | Time 113.8s  [lr=1e-2]\n",
            "Epoch 03/15 | Train 2.0826/18.80% | Val 1.9244/32.53% | Time 112.1s  [lr=1e-2]\n",
            "Epoch 04/15 | Train 1.3830/54.15% | Val 1.7454/42.13% | Time 127.6s  [lr=1e-2]\n",
            "Epoch 05/15 | Train 0.6457/77.82% | Val 2.0568/44.53% | Time 113.3s  [lr=1e-2]\n",
            "Epoch 06/15 | Train 0.2525/92.05% | Val 2.8584/47.20% | Time 114.3s  [lr=1e-2]\n",
            "Epoch 07/15 | Train 0.0927/97.09% | Val 3.5130/51.73% | Time 116.5s  [lr=1e-2]\n",
            "Epoch 08/15 | Train 0.0524/98.46% | Val 3.6960/49.87% | Time 114.4s  [lr=1e-2]\n",
            "Epoch 09/15 | Train 0.0568/98.34% | Val 3.8441/49.07% | Time 127.5s  [lr=1e-2]\n",
            "Epoch 10/15 | Train 0.0389/98.99% | Val 4.1124/47.73% | Time 116.5s  [lr=1e-2]\n",
            "Epoch 11/15 | Train 0.0359/98.87% | Val 4.8088/49.07% | Time 116.1s  [lr=1e-2]\n",
            "Epoch 12/15 | Train 0.0222/99.53% | Val 4.8984/47.47% | Time 117.2s  [lr=1e-2]\n",
            "Epoch 13/15 | Train 0.0174/99.41% | Val 5.7272/50.13% | Time 114.5s  [lr=1e-2]\n",
            "Epoch 14/15 | Train 0.0165/99.58% | Val 5.3560/49.33% | Time 130.1s  [lr=1e-2]\n",
            "Epoch 15/15 | Train 0.0075/99.76% | Val 5.7649/48.53% | Time 120.5s  [lr=1e-2]\n",
            "Best validation accuracy: 51.73% (saved at checkpoints_lr1e-2/best.pt)\n",
            "\n",
            "=== lr=1e-4 ===\n",
            "Epoch 01/15 | Train 1.7244/41.10% | Val 1.5841/48.00% | Time 119.6s  [lr=1e-4]\n",
            "Epoch 02/15 | Train 1.0890/65.48% | Val 1.5033/55.73% | Time 129.1s  [lr=1e-4]\n",
            "Epoch 03/15 | Train 0.8455/73.43% | Val 1.5128/54.40% | Time 119.9s  [lr=1e-4]\n",
            "Epoch 04/15 | Train 0.7293/76.63% | Val 1.5303/54.40% | Time 128.8s  [lr=1e-4]\n",
            "Epoch 05/15 | Train 0.6317/79.83% | Val 1.4810/58.67% | Time 120.8s  [lr=1e-4]\n",
            "Epoch 06/15 | Train 0.5499/83.51% | Val 1.4684/59.73% | Time 118.6s  [lr=1e-4]\n",
            "Epoch 07/15 | Train 0.4916/85.59% | Val 1.5054/59.20% | Time 118.9s  [lr=1e-4]\n",
            "Epoch 08/15 | Train 0.4300/87.19% | Val 1.6021/58.93% | Time 121.0s  [lr=1e-4]\n",
            "Epoch 09/15 | Train 0.4002/87.78% | Val 1.6802/57.60% | Time 142.7s  [lr=1e-4]\n",
            "Epoch 10/15 | Train 0.3341/91.58% | Val 1.7405/57.87% | Time 144.8s  [lr=1e-4]\n",
            "Epoch 11/15 | Train 0.3147/90.75% | Val 1.8243/58.13% | Time 119.5s  [lr=1e-4]\n",
            "Epoch 12/15 | Train 0.2735/91.52% | Val 1.7687/57.07% | Time 118.3s  [lr=1e-4]\n",
            "Epoch 13/15 | Train 0.2466/93.00% | Val 1.9272/57.07% | Time 118.6s  [lr=1e-4]\n",
            "Epoch 14/15 | Train 0.2146/94.54% | Val 1.9824/58.40% | Time 128.9s  [lr=1e-4]\n",
            "Epoch 15/15 | Train 0.1615/96.92% | Val 1.9704/58.13% | Time 119.9s  [lr=1e-4]\n",
            "Best validation accuracy: 59.73% (saved at checkpoints_lr1e-4/best.pt)\n"
          ]
        }
      ]
    },
    {
      "cell_type": "code",
      "source": [
        "# I got different result from re-running the training. I use the checkpoint\n",
        "# to get the original result again.\n",
        "\n",
        "# Create the same model architecture\n",
        "model = HandCNN(num_classes=len(classes))\n",
        "\n",
        "# Load weights\n",
        "model.load_state_dict(torch.load(\"epoch_015.pt\"))\n",
        "\n",
        "# Move to device and set to evaluation mode\n",
        "model = model.to(device)\n",
        "model.eval()\n"
      ],
      "metadata": {
        "colab": {
          "base_uri": "https://localhost:8080/"
        },
        "id": "6MemAkaX-La-",
        "outputId": "dc3ec2a7-8549-448c-aefb-caacc22cc401"
      },
      "execution_count": 17,
      "outputs": [
        {
          "output_type": "execute_result",
          "data": {
            "text/plain": [
              "HandCNN(\n",
              "  (conv1): Conv2d(3, 16, kernel_size=(3, 3), stride=(1, 1), padding=(1, 1))\n",
              "  (pool): MaxPool2d(kernel_size=2, stride=2, padding=0, dilation=1, ceil_mode=False)\n",
              "  (conv2): Conv2d(16, 32, kernel_size=(3, 3), stride=(1, 1), padding=(1, 1))\n",
              "  (fc1): Linear(in_features=100352, out_features=128, bias=True)\n",
              "  (fc2): Linear(in_features=128, out_features=9, bias=True)\n",
              ")"
            ]
          },
          "metadata": {},
          "execution_count": 17
        }
      ]
    },
    {
      "cell_type": "code",
      "source": [
        "correct, total = 0, 0\n",
        "with torch.no_grad():\n",
        "    for x, y in val_loader:   # or test_loader if allowed\n",
        "        x, y = x.to(device), y.to(device)\n",
        "        outputs = model(x)\n",
        "        preds = outputs.argmax(1)\n",
        "        correct += (preds == y).sum().item()\n",
        "        total   += y.size(0)\n",
        "\n",
        "print(\"Accuracy:\", correct / total * 100, \"%\")\n"
      ],
      "metadata": {
        "colab": {
          "base_uri": "https://localhost:8080/"
        },
        "id": "7aY0FZWZ-lUQ",
        "outputId": "e1649492-00e4-4d8b-b8da-311daef14d25"
      },
      "execution_count": 18,
      "outputs": [
        {
          "output_type": "stream",
          "name": "stderr",
          "text": [
            "/usr/local/lib/python3.12/dist-packages/torch/utils/data/dataloader.py:666: UserWarning: 'pin_memory' argument is set as true but no accelerator is found, then device pinned memory won't be used.\n",
            "  warnings.warn(warn_msg)\n"
          ]
        },
        {
          "output_type": "stream",
          "name": "stdout",
          "text": [
            "Accuracy: 11.200000000000001 %\n"
          ]
        }
      ]
    },
    {
      "cell_type": "code",
      "source": [
        "# --- Plot: Validation Accuracy ---\n",
        "plt.figure(figsize=(7,4))\n",
        "for name, series in curves.items():\n",
        "    epochs = get_curve(series, 0)\n",
        "    val_acc = get_curve(series, 4)\n",
        "    plt.plot(epochs, val_acc, label=name)\n",
        "plt.xlabel(\"Epoch\"); plt.ylabel(\"Validation Accuracy\")\n",
        "plt.title(\"Hyperparameter Settings — Validation Accuracy\")\n",
        "plt.legend(); plt.grid(True); plt.show()\n",
        "\n",
        "# --- Plot: Training Loss ---\n",
        "plt.figure(figsize=(7,4))\n",
        "for name, series in curves.items():\n",
        "    epochs = get_curve(series, 0)\n",
        "    train_loss = get_curve(series, 1)\n",
        "    plt.plot(epochs, train_loss, label=name)\n",
        "plt.xlabel(\"Epoch\"); plt.ylabel(\"Training Loss\")\n",
        "plt.title(\"Hyperparameter Settings — Training Loss\")\n",
        "plt.legend(); plt.grid(True); plt.show()\n"
      ],
      "metadata": {
        "colab": {
          "base_uri": "https://localhost:8080/",
          "height": 803
        },
        "id": "7FoOlKDh-Qu8",
        "outputId": "91bea457-9ebe-4a54-b180-6f910bb4cb64"
      },
      "execution_count": 31,
      "outputs": [
        {
          "output_type": "display_data",
          "data": {
            "text/plain": [
              "<Figure size 700x400 with 1 Axes>"
            ],
            "image/png": "[encoded data removed]"
          },
          "metadata": {}
        },
        {
          "output_type": "display_data",
          "data": {
            "text/plain": [
              "<Figure size 700x400 with 1 Axes>"
            ],
            "image/png": "[encoded data removed]"
          },
          "metadata": {}
        }
      ]
    },
    {
      "cell_type": "code",
      "source": [
        "# tuning batch size\n",
        "\n",
        "import matplotlib.pyplot as plt\n",
        "\n",
        "num_classes = len(classes)\n",
        "\n",
        "configs = [\n",
        "    {\"name\": \"bs=32\",  \"bs\": 32,  \"lr\": 1e-3},\n",
        "    {\"name\": \"bs=64\",  \"bs\": 64,  \"lr\": 1e-3},\n",
        "    {\"name\": \"bs=128\", \"bs\": 128, \"lr\": 1e-3},\n",
        "]\n",
        "\n",
        "curves_bs = {}\n",
        "\n",
        "for cfg in configs:\n",
        "    print(f\"\\n=== {cfg['name']} (lr={cfg['lr']}) ===\")\n",
        "    metrics = []\n",
        "    model = HandCNN(num_classes)\n",
        "    _m, _best = train_model(\n",
        "        model, ds_train, ds_val,\n",
        "        batch_size=cfg[\"bs\"], lr=cfg[\"lr\"], epochs=15,\n",
        "        ckpt_dir=f\"checkpoints_{cfg['name'].replace('=','')}\",\n",
        "        ckpt_every=3,\n",
        "        metrics_list=metrics, run_name=cfg[\"name\"]\n",
        "    )\n",
        "    curves_bs[cfg[\"name\"]] = metrics\n",
        "\n"
      ],
      "metadata": {
        "colab": {
          "base_uri": "https://localhost:8080/"
        },
        "id": "3jR2n9l7Cydv",
        "outputId": "63136cf5-8a1a-4731-85d6-25cef8f5f805"
      },
      "execution_count": 33,
      "outputs": [
        {
          "output_type": "stream",
          "name": "stdout",
          "text": [
            "\n",
            "=== bs=32 (lr=0.001) ===\n",
            "Epoch 01/15 | Train 2.0188/45.14% | Val 1.6366/52.27% | Time 90.1s  [bs=32]\n",
            "Epoch 02/15 | Train 0.7617/75.27% | Val 1.4832/60.53% | Time 85.4s  [bs=32]\n",
            "Epoch 03/15 | Train 0.4225/86.42% | Val 1.5793/61.60% | Time 82.4s  [bs=32]\n",
            "Epoch 04/15 | Train 0.2143/93.95% | Val 1.7801/62.93% | Time 84.5s  [bs=32]\n",
            "Epoch 05/15 | Train 0.0711/98.46% | Val 2.1635/62.93% | Time 83.6s  [bs=32]\n",
            "Epoch 06/15 | Train 0.0233/99.82% | Val 2.5738/60.27% | Time 81.5s  [bs=32]\n",
            "Epoch 07/15 | Train 0.0078/100.00% | Val 2.7528/63.20% | Time 87.1s  [bs=32]\n",
            "Epoch 08/15 | Train 0.0031/100.00% | Val 2.9578/61.87% | Time 90.3s  [bs=32]\n",
            "Epoch 09/15 | Train 0.0023/100.00% | Val 3.0889/63.47% | Time 84.2s  [bs=32]\n",
            "Epoch 10/15 | Train 0.0013/100.00% | Val 3.1851/62.93% | Time 86.0s  [bs=32]\n",
            "Epoch 11/15 | Train 0.0009/100.00% | Val 3.2857/63.47% | Time 85.5s  [bs=32]\n",
            "Epoch 12/15 | Train 0.0007/100.00% | Val 3.3775/63.47% | Time 86.7s  [bs=32]\n",
            "Epoch 13/15 | Train 0.0006/100.00% | Val 3.4359/63.47% | Time 83.5s  [bs=32]\n",
            "Epoch 14/15 | Train 0.0005/100.00% | Val 3.5027/63.20% | Time 100.2s  [bs=32]\n",
            "Epoch 15/15 | Train 0.0004/100.00% | Val 3.5602/63.20% | Time 87.2s  [bs=32]\n",
            "Best validation accuracy: 63.47% (saved at checkpoints_bs32/best.pt)\n",
            "\n",
            "=== bs=64 (lr=0.001) ===\n",
            "Epoch 01/15 | Train 2.4413/28.47% | Val 1.9875/49.07% | Time 86.0s  [bs=64]\n",
            "Epoch 02/15 | Train 1.0097/68.15% | Val 1.7533/54.93% | Time 84.2s  [bs=64]\n",
            "Epoch 03/15 | Train 0.7016/77.28% | Val 1.6934/58.13% | Time 83.0s  [bs=64]\n",
            "Epoch 04/15 | Train 0.4933/84.46% | Val 1.6294/60.27% | Time 82.5s  [bs=64]\n",
            "Epoch 05/15 | Train 0.3189/90.33% | Val 1.9495/58.67% | Time 81.6s  [bs=64]\n",
            "Epoch 06/15 | Train 0.1598/96.14% | Val 2.2976/56.27% | Time 80.6s  [bs=64]\n",
            "Epoch 07/15 | Train 0.0738/98.34% | Val 2.7906/59.47% | Time 92.5s  [bs=64]\n",
            "Epoch 08/15 | Train 0.0589/98.70% | Val 2.9671/57.60% | Time 83.4s  [bs=64]\n",
            "Epoch 09/15 | Train 0.0424/99.11% | Val 2.8954/62.67% | Time 83.0s  [bs=64]\n",
            "Epoch 10/15 | Train 0.0204/99.58% | Val 3.3020/59.20% | Time 81.8s  [bs=64]\n",
            "Epoch 11/15 | Train 0.0075/99.94% | Val 3.3681/59.73% | Time 82.2s  [bs=64]\n",
            "Epoch 12/15 | Train 0.0035/100.00% | Val 3.5956/57.87% | Time 83.0s  [bs=64]\n",
            "Epoch 13/15 | Train 0.0018/100.00% | Val 3.7583/58.93% | Time 80.4s  [bs=64]\n",
            "Epoch 14/15 | Train 0.0012/100.00% | Val 3.8906/58.67% | Time 83.0s  [bs=64]\n",
            "Epoch 15/15 | Train 0.0009/100.00% | Val 3.9939/57.60% | Time 81.2s  [bs=64]\n",
            "Best validation accuracy: 62.67% (saved at checkpoints_bs64/best.pt)\n",
            "\n",
            "=== bs=128 (lr=0.001) ===\n",
            "Epoch 01/15 | Train 4.8699/15.42% | Val 2.0866/22.93% | Time 95.6s  [bs=128]\n",
            "Epoch 02/15 | Train 1.6804/48.40% | Val 1.7724/49.87% | Time 85.3s  [bs=128]\n",
            "Epoch 03/15 | Train 0.9578/68.51% | Val 1.7207/56.27% | Time 85.5s  [bs=128]\n",
            "Epoch 04/15 | Train 0.6506/79.12% | Val 1.5316/59.20% | Time 83.7s  [bs=128]\n",
            "Epoch 05/15 | Train 0.4799/85.59% | Val 1.7021/61.07% | Time 85.1s  [bs=128]\n",
            "Epoch 06/15 | Train 0.3599/88.73% | Val 1.7582/60.80% | Time 85.4s  [bs=128]\n",
            "Epoch 07/15 | Train 0.2461/93.53% | Val 1.9081/58.13% | Time 84.5s  [bs=128]\n",
            "Epoch 08/15 | Train 0.1839/94.90% | Val 2.0544/60.80% | Time 91.3s  [bs=128]\n",
            "Epoch 09/15 | Train 0.1147/97.27% | Val 2.1809/60.80% | Time 83.4s  [bs=128]\n",
            "Epoch 10/15 | Train 0.0811/98.64% | Val 2.6518/58.93% | Time 85.2s  [bs=128]\n",
            "Epoch 11/15 | Train 0.0450/99.41% | Val 2.8377/60.27% | Time 83.7s  [bs=128]\n",
            "Epoch 12/15 | Train 0.0367/99.17% | Val 2.8187/61.87% | Time 84.8s  [bs=128]\n",
            "Epoch 13/15 | Train 0.0257/99.58% | Val 2.9479/60.00% | Time 82.8s  [bs=128]\n",
            "Epoch 14/15 | Train 0.0264/99.53% | Val 2.9723/61.07% | Time 84.0s  [bs=128]\n",
            "Epoch 15/15 | Train 0.0155/99.82% | Val 3.2062/59.20% | Time 83.2s  [bs=128]\n",
            "Best validation accuracy: 61.87% (saved at checkpoints_bs128/best.pt)\n"
          ]
        }
      ]
    },
    {
      "cell_type": "code",
      "source": [
        "# --- Plot: Validation Accuracy ---\n",
        "plt.figure(figsize=(7,4))\n",
        "for name, series in curves_bs.items():\n",
        "    epochs  = get_curve(series, 0)\n",
        "    val_acc = get_curve(series, 4)\n",
        "    plt.plot(epochs, val_acc, label=name)\n",
        "plt.xlabel(\"Epoch\"); plt.ylabel(\"Validation Accuracy\")\n",
        "plt.title(\"Batch Size Sweep — Validation Accuracy\")\n",
        "plt.legend(); plt.grid(True); plt.show()\n",
        "\n",
        "# --- Plot: Training Loss ---\n",
        "plt.figure(figsize=(7,4))\n",
        "for name, series in curves_bs.items():\n",
        "    epochs     = get_curve(series, 0)\n",
        "    train_loss = get_curve(series, 1)\n",
        "    plt.plot(epochs, train_loss, label=name)\n",
        "plt.xlabel(\"Epoch\"); plt.ylabel(\"Training Loss\")\n",
        "plt.title(\"Batch Size Sweep — Training Loss\")\n",
        "plt.legend(); plt.grid(True); plt.show()\n"
      ],
      "metadata": {
        "colab": {
          "base_uri": "https://localhost:8080/",
          "height": 803
        },
        "id": "DYiv2GSDENfz",
        "outputId": "41432eab-7b6e-431b-e58d-aa22e52a6757"
      },
      "execution_count": 35,
      "outputs": [
        {
          "output_type": "display_data",
          "data": {
            "text/plain": [
              "<Figure size 700x400 with 1 Axes>"
            ],
            "image/png": "[encoded data removed]"
          },
          "metadata": {}
        },
        {
          "output_type": "display_data",
          "data": {
            "text/plain": [
              "<Figure size 700x400 with 1 Axes>"
            ],
            "image/png": "[encoded data removed]"
          },
          "metadata": {}
        }
      ]
    },
    {
      "cell_type": "code",
      "source": [
        "# tuning number of conv layers\n",
        "\n",
        "import torch\n",
        "import torch.nn as nn\n",
        "import torch.nn.functional as F\n",
        "\n",
        "class HandCNN1(nn.Module):\n",
        "    def __init__(self, num_classes):\n",
        "        super(HandCNN1, self).__init__()\n",
        "        self.conv1 = nn.Conv2d(3, 32, kernel_size=3, padding=1)  # (in_channels=3 for RGB)\n",
        "        self.pool = nn.MaxPool2d(2, 2)                          # downsample by factor of 2\n",
        "        self.conv2 = nn.Conv2d(32, 64, kernel_size=3, padding=1)\n",
        "        self.conv3 = nn.Conv2d(64, 128, kernel_size=3, padding=1)\n",
        "\n",
        "        # after 3 poolings, image size is 224 -> 28\n",
        "        self.fc1 = nn.Linear(128 * 28 * 28, 256)\n",
        "        self.fc2 = nn.Linear(256, num_classes)\n",
        "\n",
        "    def forward(self, x):\n",
        "        x = self.pool(F.relu(self.conv1(x)))  # -> 32x112x112\n",
        "        x = self.pool(F.relu(self.conv2(x)))  # -> 64x56x56\n",
        "        x = self.pool(F.relu(self.conv3(x)))  # -> 128x28x28\n",
        "        x = x.view(x.size(0), -1)             # flatten\n",
        "        x = F.relu(self.fc1(x))\n",
        "        x = self.fc2(x)\n",
        "        return x\n"
      ],
      "metadata": {
        "id": "T0HmodXU_urX"
      },
      "execution_count": 36,
      "outputs": []
    },
    {
      "cell_type": "code",
      "source": [
        "\n",
        "num_classes = len(classes)\n",
        "\n",
        "# pick 3-conv model\n",
        "model = HandCNN1(num_classes)   # use HandCNN1 for 3 conv layers\n",
        "\n",
        "# container for metrics (epoch, train_loss, train_acc, val_loss, val_acc)\n",
        "metrics = []\n",
        "\n",
        "# run training\n",
        "_m, _best = train_model(\n",
        "    model, ds_train, ds_val,\n",
        "    batch_size=64, lr=1e-3, epochs=15,\n",
        "    ckpt_dir=\"checkpoints_3conv\",\n",
        "    ckpt_every=3,\n",
        "    metrics_list=metrics,\n",
        "    run_name=\"3conv\"\n",
        ")"
      ],
      "metadata": {
        "colab": {
          "base_uri": "https://localhost:8080/"
        },
        "id": "fEivTBdFB6_i",
        "outputId": "4549b1fa-6f80-4783-e501-eae2fb3d41cd"
      },
      "execution_count": 21,
      "outputs": [
        {
          "output_type": "stream",
          "name": "stderr",
          "text": [
            "/usr/local/lib/python3.12/dist-packages/torch/utils/data/dataloader.py:666: UserWarning: 'pin_memory' argument is set as true but no accelerator is found, then device pinned memory won't be used.\n",
            "  warnings.warn(warn_msg)\n"
          ]
        },
        {
          "output_type": "stream",
          "name": "stdout",
          "text": [
            "Epoch 01/15 | Train 2.0062/37.66% | Val 1.5705/54.13% | Time 327.7s  [3conv]\n",
            "Epoch 02/15 | Train 0.8848/71.17% | Val 1.4507/56.27% | Time 327.3s  [3conv]\n",
            "Epoch 03/15 | Train 0.6736/78.59% | Val 1.3575/61.60% | Time 366.4s  [3conv]\n",
            "Epoch 04/15 | Train 0.4852/84.99% | Val 1.5727/65.60% | Time 348.5s  [3conv]\n",
            "Epoch 05/15 | Train 0.2883/90.81% | Val 1.5963/65.87% | Time 337.6s  [3conv]\n",
            "Epoch 06/15 | Train 0.1228/96.44% | Val 2.0710/64.80% | Time 347.7s  [3conv]\n",
            "Epoch 07/15 | Train 0.0483/98.93% | Val 2.7313/65.33% | Time 340.0s  [3conv]\n",
            "Epoch 08/15 | Train 0.0371/98.93% | Val 2.6179/65.60% | Time 336.3s  [3conv]\n",
            "Epoch 09/15 | Train 0.0421/98.46% | Val 2.7786/64.27% | Time 334.6s  [3conv]\n",
            "Epoch 10/15 | Train 0.0615/98.10% | Val 2.4015/65.07% | Time 348.5s  [3conv]\n",
            "Epoch 11/15 | Train 0.0263/99.35% | Val 3.2458/62.40% | Time 340.2s  [3conv]\n",
            "Epoch 12/15 | Train 0.0295/99.17% | Val 3.2516/61.87% | Time 338.4s  [3conv]\n",
            "Epoch 13/15 | Train 0.0134/99.47% | Val 3.2755/64.27% | Time 342.4s  [3conv]\n",
            "Epoch 14/15 | Train 0.0026/100.00% | Val 3.6023/65.60% | Time 344.2s  [3conv]\n",
            "Epoch 15/15 | Train 0.0007/100.00% | Val 3.7941/66.13% | Time 337.6s  [3conv]\n",
            "Best validation accuracy: 66.13% (saved at checkpoints_3conv/best.pt)\n"
          ]
        }
      ]
    },
    {
      "cell_type": "code",
      "source": [
        "epochs     = [e for (e, _, _, _, _) in metrics]\n",
        "train_loss = [l for (_, l, _, _, _) in metrics]\n",
        "train_acc  = [a for (_, _, a, _, _) in metrics]\n",
        "val_loss   = [vl for (_, _, _, vl, _) in metrics]\n",
        "val_acc    = [va for (_, _, _, _, va) in metrics]\n",
        "\n",
        "plt.figure(figsize=(7,4))\n",
        "plt.plot(epochs, train_loss, label=\"Train Loss\")\n",
        "plt.plot(epochs, val_loss, label=\"Val Loss\")\n",
        "plt.xlabel(\"Epoch\"); plt.ylabel(\"Loss\")\n",
        "plt.title(\"3-Conv Network — Loss Curve\")\n",
        "plt.legend(); plt.grid(True)\n",
        "plt.show()\n",
        "\n",
        "plt.figure(figsize=(7,4))\n",
        "plt.plot(epochs, train_acc, label=\"Train Acc\")\n",
        "plt.plot(epochs, val_acc, label=\"Val Acc\")\n",
        "plt.xlabel(\"Epoch\"); plt.ylabel(\"Accuracy\")\n",
        "plt.title(\"3-Conv Network — Accuracy Curve\")\n",
        "plt.legend(); plt.grid(True)\n",
        "plt.show()"
      ],
      "metadata": {
        "colab": {
          "base_uri": "https://localhost:8080/",
          "height": 803
        },
        "id": "AkUN_NbkWsiC",
        "outputId": "7cf7cd96-5d01-4e0a-be56-f663a05c8a79"
      },
      "execution_count": 22,
      "outputs": [
        {
          "output_type": "display_data",
          "data": {
            "text/plain": [
              "<Figure size 700x400 with 1 Axes>"
            ],
            "image/png": "[encoded data removed]"
          },
          "metadata": {}
        },
        {
          "output_type": "display_data",
          "data": {
            "text/plain": [
              "<Figure size 700x400 with 1 Axes>"
            ],
            "image/png": "[encoded data removed]"
          },
          "metadata": {}
        }
      ]
    },
    {
      "cell_type": "code",
      "source": [
        "# consider performance above, choose the best model\n",
        "# conv # = 3, batch size = 32, lr = 0.001\n",
        "model = HandCNN1(num_classes)   # use HandCNN1 for 3 conv layers\n",
        "\n",
        "# container for metrics (epoch, train_loss, train_acc, val_loss, val_acc)\n",
        "metrics = []\n",
        "\n",
        "# Train\n",
        "_m, best_path = train_model(\n",
        "    model, ds_train, ds_val,\n",
        "    batch_size=32, lr=1e-3, epochs=15,\n",
        "    ckpt_dir=\"checkpoints_best_3conv_bs32_lr1e3\",\n",
        "    ckpt_every=3,\n",
        "    metrics_list=metrics, run_name=\"best-3conv-bs32-lr1e3\"\n",
        ")\n",
        "\n"
      ],
      "metadata": {
        "colab": {
          "base_uri": "https://localhost:8080/"
        },
        "id": "uH6lhvyYXu88",
        "outputId": "897f7d07-4358-4503-e05c-334ab2a3e117"
      },
      "execution_count": 23,
      "outputs": [
        {
          "output_type": "stream",
          "name": "stdout",
          "text": [
            "Epoch 01/15 | Train 1.6854/42.82% | Val 1.9043/52.80% | Time 347.1s  [best-3conv-bs32-lr1e3]\n",
            "Epoch 02/15 | Train 0.9237/70.76% | Val 1.3949/61.33% | Time 341.3s  [best-3conv-bs32-lr1e3]\n",
            "Epoch 03/15 | Train 0.7297/75.27% | Val 1.2810/65.33% | Time 337.0s  [best-3conv-bs32-lr1e3]\n",
            "Epoch 04/15 | Train 0.5087/83.45% | Val 1.3817/64.00% | Time 339.7s  [best-3conv-bs32-lr1e3]\n",
            "Epoch 05/15 | Train 0.3616/88.08% | Val 1.6303/61.87% | Time 340.2s  [best-3conv-bs32-lr1e3]\n",
            "Epoch 06/15 | Train 0.2434/91.46% | Val 1.8136/65.87% | Time 341.5s  [best-3conv-bs32-lr1e3]\n",
            "Epoch 07/15 | Train 0.1453/95.08% | Val 2.0853/62.13% | Time 349.7s  [best-3conv-bs32-lr1e3]\n",
            "Epoch 08/15 | Train 0.1082/96.38% | Val 2.6268/65.33% | Time 341.2s  [best-3conv-bs32-lr1e3]\n",
            "Epoch 09/15 | Train 0.0475/98.34% | Val 2.8438/64.00% | Time 314.6s  [best-3conv-bs32-lr1e3]\n",
            "Epoch 10/15 | Train 0.0241/99.05% | Val 2.9218/65.33% | Time 327.4s  [best-3conv-bs32-lr1e3]\n",
            "Epoch 11/15 | Train 0.0146/99.58% | Val 3.1123/64.27% | Time 315.0s  [best-3conv-bs32-lr1e3]\n",
            "Epoch 12/15 | Train 0.0026/100.00% | Val 3.2384/67.73% | Time 314.4s  [best-3conv-bs32-lr1e3]\n",
            "Epoch 13/15 | Train 0.0007/100.00% | Val 3.4310/67.20% | Time 344.4s  [best-3conv-bs32-lr1e3]\n",
            "Epoch 14/15 | Train 0.0004/100.00% | Val 3.5691/66.93% | Time 343.1s  [best-3conv-bs32-lr1e3]\n",
            "Epoch 15/15 | Train 0.0002/100.00% | Val 3.6723/66.93% | Time 335.4s  [best-3conv-bs32-lr1e3]\n",
            "Best validation accuracy: 67.73% (saved at checkpoints_best_3conv_bs32_lr1e3/best.pt)\n"
          ]
        }
      ]
    },
    {
      "cell_type": "code",
      "source": [
        "epochs     = [e  for (e, _, _, _, _) in metrics]\n",
        "train_loss = [tl for (_, tl, _, _, _) in metrics]\n",
        "val_loss   = [vl for (_, _, _, vl, _) in metrics]\n",
        "train_acc  = [ta for (_, _, ta, _, _) in metrics]\n",
        "val_acc    = [va for (_, _, _, _, va) in metrics]\n",
        "\n",
        "plt.figure(figsize=(7,4))\n",
        "plt.plot(epochs, train_loss, label=\"Train Loss\")\n",
        "plt.plot(epochs, val_loss,   label=\"Val Loss\")\n",
        "plt.xlabel(\"Epoch\"); plt.ylabel(\"Loss\")\n",
        "plt.title(\"Best Config (3-Conv, bs=32, lr=1e-3) — Loss\")\n",
        "plt.legend(); plt.grid(True)\n",
        "plt.show()\n",
        "\n",
        "plt.figure(figsize=(7,4))\n",
        "plt.plot(epochs, train_acc, label=\"Train Acc\")\n",
        "plt.plot(epochs, val_acc,   label=\"Val Acc\")\n",
        "plt.xlabel(\"Epoch\"); plt.ylabel(\"Accuracy\")\n",
        "plt.title(\"Best Config (3-Conv, bs=32, lr=1e-3) — Accuracy\")\n",
        "plt.legend(); plt.grid(True)\n",
        "plt.show()"
      ],
      "metadata": {
        "colab": {
          "base_uri": "https://localhost:8080/",
          "height": 803
        },
        "id": "xrz_W4eHeVhN",
        "outputId": "54f61d93-d77e-444b-c5cf-c4f62109d0ac"
      },
      "execution_count": 24,
      "outputs": [
        {
          "output_type": "display_data",
          "data": {
            "text/plain": [
              "<Figure size 700x400 with 1 Axes>"
            ],
            "image/png": "[encoded data removed]"
          },
          "metadata": {}
        },
        {
          "output_type": "display_data",
          "data": {
            "text/plain": [
              "<Figure size 700x400 with 1 Axes>"
            ],
            "image/png": "[encoded data removed]"
          },
          "metadata": {}
        }
      ]
    },
    {
      "cell_type": "markdown",
      "metadata": {
        "id": "H93iN5_l60BO"
      },
      "source": [
        "### Part (iii) - [2pt DISCUSSION]\n",
        "Choose the best model out of all the ones that you have trained. Justify your choice."
      ]
    },
    {
      "cell_type": "code",
      "execution_count": null,
      "metadata": {
        "id": "eJHwissDbNMD"
      },
      "outputs": [],
      "source": [
        "'''\n",
        "PROVIDE YOUR ANSWER BELOW\n",
        "\n",
        "\n",
        "The final model with 3 convolutional layers, batch size of 32, and learning rate\n",
        "of 0.001 was selected as the best configuration. This setting achieved the highest\n",
        "validation accuracy (~65–67%) while maintaining stable convergence, whereas other\n",
        "hyperparameters either failed to converge or produced lower validation performance.\n",
        "Although some overfitting is observed (training accuracy reaching 100% while\n",
        "validation plateaus), this model represents the best trade-off between learning\n",
        "capacity and generalization.\n",
        "\n",
        "\n",
        "\n",
        "'''"
      ]
    },
    {
      "cell_type": "markdown",
      "metadata": {
        "id": "QzNA5oup67JO"
      },
      "source": [
        "### Part (iv) - [2pt RESULTS]\n",
        "Report the test accuracy of your best model. You should only do this step once and prior to this step you should have only used the training and validation data.\n",
        "\n",
        "Additionally, provide a confusion matrix. Using the confusion matrix values, you must calculate and report the precision, recall, and F1-score for each letter class and report them in a table. Identify the two gestures that your model confuses most often and hypothesize why this might be the case based on their visual similarity."
      ]
    },
    {
      "cell_type": "code",
      "execution_count": 26,
      "metadata": {
        "id": "HL_gly-PbOyD",
        "colab": {
          "base_uri": "https://localhost:8080/"
        },
        "outputId": "581d6703-3951-4dfe-c650-0b9b37664ab8"
      },
      "outputs": [
        {
          "output_type": "stream",
          "name": "stderr",
          "text": [
            "/usr/local/lib/python3.12/dist-packages/torch/utils/data/dataloader.py:666: UserWarning: 'pin_memory' argument is set as true but no accelerator is found, then device pinned memory won't be used.\n",
            "  warnings.warn(warn_msg)\n"
          ]
        },
        {
          "output_type": "stream",
          "name": "stdout",
          "text": [
            "✅ Test Accuracy = 75.74%\n"
          ]
        }
      ],
      "source": [
        "# TO BE COMPLETED\n",
        "\n",
        "import torch\n",
        "from sklearn.metrics import confusion_matrix, classification_report\n",
        "import matplotlib.pyplot as plt\n",
        "import seaborn as sns\n",
        "import numpy as np\n",
        "\n",
        "# --- Load the best model's checkpoint\n",
        "best_model = HandCNN1(num_classes)\n",
        "best_model.load_state_dict(torch.load(\"checkpoints_best_3conv_bs32_lr1e3/epoch_015.pt\"))  # path from Part (iii)\n",
        "best_model = best_model.to(device)\n",
        "best_model.eval()\n",
        "\n",
        "# --- Run on test set\n",
        "all_preds, all_labels = [], []\n",
        "with torch.no_grad():\n",
        "    for x, y in test_loader:\n",
        "        x, y = x.to(device), y.to(device)\n",
        "        logits = best_model(x)\n",
        "        preds = torch.argmax(logits, dim=1)\n",
        "        all_preds.extend(preds.cpu().numpy())\n",
        "        all_labels.extend(y.cpu().numpy())\n",
        "\n",
        "# --- Test accuracy\n",
        "all_preds = np.array(all_preds)\n",
        "all_labels = np.array(all_labels)\n",
        "test_acc = (all_preds == all_labels).mean()\n",
        "print(f\"✅ Test Accuracy = {test_acc*100:.2f}%\")\n",
        "\n",
        "\n",
        "\n"
      ]
    },
    {
      "cell_type": "code",
      "source": [
        "# confusion matrix\n",
        "\n",
        "cm = confusion_matrix(all_labels, all_preds)\n",
        "plt.figure(figsize=(10,8))\n",
        "sns.heatmap(cm, annot=True, fmt=\"d\", cmap=\"Blues\",\n",
        "            xticklabels=classes, yticklabels=classes)\n",
        "plt.xlabel(\"Predicted\")\n",
        "plt.ylabel(\"True\")\n",
        "plt.title(\"Confusion Matrix on Test Set\")\n",
        "plt.show()"
      ],
      "metadata": {
        "colab": {
          "base_uri": "https://localhost:8080/",
          "height": 718
        },
        "id": "Bs4dM8DHvxAP",
        "outputId": "cc898658-df37-44fb-8330-8ececa20bbc7"
      },
      "execution_count": 27,
      "outputs": [
        {
          "output_type": "display_data",
          "data": {
            "text/plain": [
              "<Figure size 1000x800 with 2 Axes>"
            ],
            "image/png": "[encoded data removed]"
          },
          "metadata": {}
        }
      ]
    },
    {
      "cell_type": "code",
      "source": [
        "# compute scores\n",
        "\n",
        "from sklearn.metrics import precision_recall_fscore_support\n",
        "\n",
        "prec, rec, f1, _ = precision_recall_fscore_support(all_labels, all_preds, labels=range(len(classes)))\n",
        "\n",
        "import pandas as pd\n",
        "results_table = pd.DataFrame({\n",
        "    \"Class\": classes,\n",
        "    \"Precision\": prec,\n",
        "    \"Recall\": rec,\n",
        "    \"F1-score\": f1\n",
        "})\n",
        "print(results_table)"
      ],
      "metadata": {
        "colab": {
          "base_uri": "https://localhost:8080/"
        },
        "id": "ISf0qqPowCUE",
        "outputId": "47e9cfa4-a995-411a-c5ff-9cde0659de6c"
      },
      "execution_count": 28,
      "outputs": [
        {
          "output_type": "stream",
          "name": "stdout",
          "text": [
            "  Class  Precision    Recall  F1-score\n",
            "0     A   0.775000  0.738095  0.756098\n",
            "1     B   0.800000  0.761905  0.780488\n",
            "2     C   0.857143  0.714286  0.779221\n",
            "3     D   1.000000  0.785714  0.880000\n",
            "4     E   0.725000  0.707317  0.716049\n",
            "5     F   0.825000  0.785714  0.804878\n",
            "6     G   0.580645  0.857143  0.692308\n",
            "7     H   0.574468  0.642857  0.606742\n",
            "8     I   0.882353  0.833333  0.857143\n"
          ]
        }
      ]
    },
    {
      "cell_type": "code",
      "execution_count": null,
      "metadata": {
        "id": "C6R_NNH_bOyN"
      },
      "outputs": [],
      "source": [
        "'''\n",
        "PROVIDE YOUR ANSWER BELOW\n",
        "\n",
        "The final model, using three convolutional layers, batch size of 32, and learning\n",
        "rate of 0.001, achieved a test accuracy of 75.74%. This result was obtained only\n",
        "once on the held-out test set, without using test data in any part of the tuning\n",
        "process.\n",
        "\n",
        "The confusion matrix shows the prediction performs well with most of the predictions\n",
        "are correct, except H, which has 13 test samples predicted as G. This is also proved\n",
        "by the score table. Class H has the lowest precision, recall, and F1-score.\n",
        "\n",
        "In conclusion, G and H are the most confusing gestures. Their images are quite similar\n",
        "with only one finger difference.\n",
        "\n",
        "'''"
      ]
    },
    {
      "cell_type": "markdown",
      "metadata": {
        "id": "Wrem-iXV6_Bz"
      },
      "source": [
        "## Part 4. Transfer Learning [8pt]\n",
        "For many image classification tasks, it is generally not a good idea to train a very large deep neural network\n",
        "model from scratch due to the enormous compute requirements and lack of sufficient amounts of training\n",
        "data.\n",
        "\n",
        "One of the better options is to try using an existing model that performs a similar task to the one you need\n",
        "to solve. This method of utilizing a pre-trained network for other similar tasks is broadly termed **Transfer\n",
        "Learning**. In this assignment, we will use Transfer Learning to extract features from the hand gesture\n",
        "images. Then, train a smaller network to use these features as input and classify the hand gestures.\n",
        "\n",
        "As you have learned from the CNN lecture, convolution layers extract various features from the images which\n",
        "get utilized by the fully connected layers for correct classification. AlexNet architecture played a pivotal\n",
        "role in establishing Deep Neural Nets as a go-to tool for image classification problems and we will use an\n",
        "ImageNet pre-trained AlexNet model to extract features in this assignment."
      ]
    },
    {
      "cell_type": "markdown",
      "metadata": {
        "id": "rWdQJz4Q7O2F"
      },
      "source": [
        "### Part (i) - [2pt EXPLORATORY]\n",
        "Here is the code to load the AlexNet network, with pretrained weights. When you first run the code, PyTorch\n",
        "will download the pretrained weights from the internet."
      ]
    },
    {
      "cell_type": "code",
      "execution_count": 1,
      "metadata": {
        "id": "BJKcTW9C7TZk",
        "colab": {
          "base_uri": "https://localhost:8080/"
        },
        "outputId": "fb046f09-ab5d-4a7d-9075-a656d402694b"
      },
      "outputs": [
        {
          "output_type": "stream",
          "name": "stderr",
          "text": [
            "/usr/local/lib/python3.12/dist-packages/torchvision/models/_utils.py:208: UserWarning: The parameter 'pretrained' is deprecated since 0.13 and may be removed in the future, please use 'weights' instead.\n",
            "  warnings.warn(\n",
            "/usr/local/lib/python3.12/dist-packages/torchvision/models/_utils.py:223: UserWarning: Arguments other than a weight enum or `None` for 'weights' are deprecated since 0.13 and may be removed in the future. The current behavior is equivalent to passing `weights=AlexNet_Weights.IMAGENET1K_V1`. You can also use `weights=AlexNet_Weights.DEFAULT` to get the most up-to-date weights.\n",
            "  warnings.warn(msg)\n"
          ]
        },
        {
          "output_type": "stream",
          "name": "stdout",
          "text": [
            "Downloading: \"https://download.pytorch.org/models/alexnet-owt-7be5be79.pth\" to /root/.cache/torch/hub/checkpoints/alexnet-owt-7be5be79.pth\n"
          ]
        },
        {
          "output_type": "stream",
          "name": "stderr",
          "text": [
            "100%|██████████| 233M/233M [00:01<00:00, 159MB/s]\n"
          ]
        }
      ],
      "source": [
        "import torchvision.models\n",
        "alexnet = torchvision.models.alexnet(pretrained=True)"
      ]
    },
    {
      "cell_type": "markdown",
      "metadata": {
        "id": "NQ0GZYaP7VAR"
      },
      "source": [
        "The alexnet model is split up into two components: *alexnet.features* and *alexnet.classifier*. The\n",
        "first neural network component, *alexnet.features*, is used to compute convolutional features, which are\n",
        "taken as input in *alexnet.classifier*.\n",
        "\n",
        "The neural network alexnet.features expects an image tensor of shape Nx3x224x224 as input and it will\n",
        "output a tensor of shape Nx256x6x6 . (N = batch size).\n",
        "\n",
        "Compute the AlexNet features for each of your training, validation, and test data. Here is an example code\n",
        "snippet showing how you can compute the AlexNet features for some images (your actual code might be\n",
        "different):"
      ]
    },
    {
      "cell_type": "code",
      "source": [
        "# img = ... a PyTorch tensor with shape [N,3,224,224] containing hand images ...\n",
        "#features = alexnet.features(img)"
      ],
      "metadata": {
        "id": "DiT03sTy1Qpr"
      },
      "execution_count": null,
      "outputs": []
    },
    {
      "cell_type": "markdown",
      "metadata": {
        "id": "DYcjHg_A7cCM"
      },
      "source": [
        "**Save the computed features**. You will be using these features as input to your neural network in Part\n",
        "(ii), and you do not want to re-compute the features every time. Instead, run *alexnet.features* once for\n",
        "each image, and save the result."
      ]
    },
    {
      "cell_type": "code",
      "execution_count": 2,
      "metadata": {
        "id": "QDQr5eBybSOL"
      },
      "outputs": [],
      "source": [
        "# TO BE COMPLETED\n",
        "\n",
        "import torch, torchvision\n",
        "from torchvision.models import AlexNet_Weights\n",
        "import torch.nn as nn\n",
        "\n",
        "device = torch.device(\"cuda\" if torch.cuda.is_available() else \"cpu\")\n",
        "\n",
        "# Pretrained AlexNet\n",
        "alexnet = torchvision.models.alexnet(weights=AlexNet_Weights.IMAGENET1K_V1)\n",
        "alexnet.eval().to(device)\n",
        "\n",
        "# We only need the conv feature extractor for Part (i)\n",
        "feature_extractor = alexnet.features.to(device)   # outputs N x 256 x 6 x 6 for 224×224 inputs\n",
        "for p in feature_extractor.parameters():\n",
        "    p.requires_grad = False\n",
        "\n"
      ]
    },
    {
      "cell_type": "code",
      "source": [
        "from torchvision import transforms\n",
        "\n",
        "imagenet_tfms = transforms.Compose([\n",
        "    transforms.ToTensor(),  # [0,1], CxHxW\n",
        "    transforms.Normalize(mean=[0.485, 0.456, 0.406],\n",
        "                         std=[0.229, 0.224, 0.225]),\n",
        "])\n"
      ],
      "metadata": {
        "id": "uaOWAbt1zfAP"
      },
      "execution_count": 3,
      "outputs": []
    },
    {
      "cell_type": "code",
      "source": [
        "import os\n",
        "from torch.utils.data import DataLoader\n",
        "\n",
        "def extract_features_to_disk(loader, split_name, save_dir=\"alexnet_features\"):\n",
        "    os.makedirs(save_dir, exist_ok=True)\n",
        "    feats_list, labels_list = [], []\n",
        "\n",
        "    with torch.no_grad():\n",
        "        for imgs, labels in loader:\n",
        "            imgs = imgs.to(device, non_blocking=True)\n",
        "            # AlexNet conv features: N x 256 x 6 x 6\n",
        "            feats = feature_extractor(imgs)\n",
        "            # Flatten to vectors for the classifier in Part (ii): N x (256*6*6)\n",
        "            feats = feats.view(feats.size(0), -1).cpu()\n",
        "            feats_list.append(feats)\n",
        "            labels_list.append(labels.cpu())\n",
        "\n",
        "    X = torch.cat(feats_list, dim=0)      # (N, 256*6*6)\n",
        "    y = torch.cat(labels_list, dim=0)     # (N,)\n",
        "    torch.save({\"x\": X, \"y\": y, \"classes\": classes},\n",
        "               os.path.join(save_dir, f\"{split_name}.pt\"))\n",
        "    print(f\"[{split_name}] saved: X={tuple(X.shape)}, y={tuple(y.shape)}\")\n"
      ],
      "metadata": {
        "id": "3FodbStPzpw1"
      },
      "execution_count": 4,
      "outputs": []
    },
    {
      "cell_type": "code",
      "source": [
        "# Dataloaders for feature extraction (no shuffle for reproducibility)\n",
        "bs = 64\n",
        "train_loader = DataLoader(ds_train, batch_size=bs, shuffle=False, num_workers=2, pin_memory=True)\n",
        "val_loader   = DataLoader(ds_val,   batch_size=bs, shuffle=False, num_workers=2, pin_memory=True)\n",
        "test_loader  = DataLoader(ds_test,  batch_size=bs, shuffle=False, num_workers=2, pin_memory=True)\n",
        "\n",
        "# Extract and save\n",
        "extract_features_to_disk(train_loader, \"train\")\n",
        "extract_features_to_disk(val_loader,   \"val\")\n",
        "extract_features_to_disk(test_loader,  \"test\")\n"
      ],
      "metadata": {
        "colab": {
          "base_uri": "https://localhost:8080/"
        },
        "id": "AhP4erTszuxi",
        "outputId": "4dd4a269-069c-479b-9186-f14842402dd3"
      },
      "execution_count": 10,
      "outputs": [
        {
          "output_type": "stream",
          "name": "stderr",
          "text": [
            "/usr/local/lib/python3.12/dist-packages/torch/utils/data/dataloader.py:666: UserWarning: 'pin_memory' argument is set as true but no accelerator is found, then device pinned memory won't be used.\n",
            "  warnings.warn(warn_msg)\n"
          ]
        },
        {
          "output_type": "stream",
          "name": "stdout",
          "text": [
            "[train] saved: X=(1686, 9216), y=(1686,)\n",
            "[val] saved: X=(375, 9216), y=(375,)\n",
            "[test] saved: X=(371, 9216), y=(371,)\n"
          ]
        }
      ]
    },
    {
      "cell_type": "markdown",
      "metadata": {
        "id": "OFWvvhFN73qY"
      },
      "source": [
        "### Part (ii) - [2pt MODEL]\n",
        "Build a new classifier to attach to the AlexNet feature extractor. Your model must use the following sequence of layers:\n",
        "\n",
        "AlexNet feature → Flatten → Linear → ReLU → Dropout → Linear\n",
        "\n",
        "Use a dropout probability of 20%; this value can be tuned in the next part. Justify your choice of the Linear layer sizes.\n",
        "\n",
        "Here is an example of how your model may be called:"
      ]
    },
    {
      "cell_type": "code",
      "source": [
        "# features = ... load precomputed alexnet.features(img) ...\n",
        "#output = model(features)\n",
        "#prob = F.softmax(output)"
      ],
      "metadata": {
        "id": "aZ8WL9hhpiVy"
      },
      "execution_count": null,
      "outputs": []
    },
    {
      "cell_type": "code",
      "source": [
        "import torch\n",
        "\n",
        "train_data = torch.load(\"alexnet_features/train.pt\")\n",
        "val_data   = torch.load(\"alexnet_features/val.pt\")\n",
        "test_data  = torch.load(\"alexnet_features/test.pt\")\n",
        "\n",
        "X_train, y_train, classes = train_data[\"x\"], train_data[\"y\"], train_data[\"classes\"]\n",
        "X_val,   y_val            = val_data[\"x\"],   val_data[\"y\"]\n",
        "X_test,  y_test           = test_data[\"x\"],  test_data[\"y\"]\n",
        "\n",
        "print(\"Train:\", X_train.shape, y_train.shape)\n",
        "print(\"Val:  \", X_val.shape,   y_val.shape)\n",
        "print(\"Test: \", X_test.shape,  y_test.shape)\n",
        "print(\"num_classes:\", len(classes))\n",
        "\n"
      ],
      "metadata": {
        "colab": {
          "base_uri": "https://localhost:8080/"
        },
        "id": "I3Do1x79plJG",
        "outputId": "85aab3f8-e95f-4830-ccd3-a3260cbcda77"
      },
      "execution_count": 15,
      "outputs": [
        {
          "output_type": "stream",
          "name": "stdout",
          "text": [
            "Train: torch.Size([1686, 9216]) torch.Size([1686])\n",
            "Val:   torch.Size([375, 9216]) torch.Size([375])\n",
            "Test:  torch.Size([371, 9216]) torch.Size([371])\n",
            "num_classes: 9\n"
          ]
        }
      ]
    },
    {
      "cell_type": "code",
      "source": [
        "import torch\n",
        "import torch.nn as nn\n",
        "import torch.nn.functional as F\n",
        "\n",
        "class AlexNetClassifier(nn.Module):\n",
        "    def __init__(self, num_classes):\n",
        "        super().__init__()\n",
        "        in_dim = 256 * 6 * 6          # AlexNet conv output = 256×6×6 = 9216\n",
        "        hidden = 512                  # justification below\n",
        "        self.flatten = nn.Flatten()\n",
        "        self.fc1 = nn.Linear(in_dim, hidden)\n",
        "        self.relu = nn.ReLU(inplace=True)\n",
        "        self.drop = nn.Dropout(p=0.2)           # required 20%\n",
        "        self.fc2 = nn.Linear(hidden, num_classes)\n",
        "\n",
        "    def forward(self, x):\n",
        "        # Accept either [N,256,6,6] or [N,9216]\n",
        "        if x.dim() == 4:              # [N,256,6,6]\n",
        "            x = self.flatten(x)       # -> [N,9216]\n",
        "        # if already [N,9216], leave as is\n",
        "        x = self.fc1(x)\n",
        "        x = self.relu(x)\n",
        "        x = self.drop(x)\n",
        "        x = self.fc2(x)               # logits\n",
        "        return x\n"
      ],
      "metadata": {
        "id": "OBWjghIBr29P"
      },
      "execution_count": 16,
      "outputs": []
    },
    {
      "cell_type": "code",
      "execution_count": null,
      "metadata": {
        "id": "P7FVHuYkbaqF"
      },
      "outputs": [],
      "source": [
        "'''\n",
        "PROVIDE YOUR ANSWER BELOW\n",
        "\n",
        "The first Linear layer size is fixed by the AlexNet features. The convolutional\n",
        "part outputs 256×6×6, which flattens to 9216 inputs. I chose 512 units in the hidden\n",
        "layer because it is large enough to capture useful patterns but much smaller than\n",
        "the original AlexNet head (4096), which keeps the model lighter and helps avoid\n",
        "overfitting. The final layer maps to the number of gesture classes, which is required\n",
        "for classification. Dropout at 20% is added to reduce overfitting risk.\n",
        "\n",
        "\n",
        "\n",
        "\n",
        "'''"
      ]
    },
    {
      "cell_type": "markdown",
      "metadata": {
        "id": "wVAGuURu7-9q"
      },
      "source": [
        "### Part (iii) - [1pt MODEL]\n",
        "Train your new network, including any hyperparameter tuning. Plot and submit the training curve of your\n",
        "best model only.\n",
        "\n",
        "Note: Depending on how you are caching (saving) your AlexNet features, PyTorch might still be tracking\n",
        "updates to the **AlexNet weights**, which we are not tuning. One workaround is to convert your AlexNet\n",
        "feature tensor into a numpy array, and then back into a PyTorch tensor."
      ]
    },
    {
      "cell_type": "code",
      "source": [
        "#tensor = torch.from_numpy(tensor.detach().numpy())"
      ],
      "metadata": {
        "id": "EXYyK9C3ujSh"
      },
      "execution_count": null,
      "outputs": []
    },
    {
      "cell_type": "code",
      "execution_count": 19,
      "metadata": {
        "id": "hbGXEv_9bd6_",
        "colab": {
          "base_uri": "https://localhost:8080/",
          "height": 1000
        },
        "outputId": "8c070e50-00fc-4b4c-ff4f-4890c441800b"
      },
      "outputs": [
        {
          "output_type": "stream",
          "name": "stderr",
          "text": [
            "/tmp/ipython-input-3569759035.py:23: UserWarning: To copy construct from a tensor, it is recommended to use sourceTensor.detach().clone() or sourceTensor.detach().clone().requires_grad_(True), rather than torch.tensor(sourceTensor).\n",
            "  y_train = torch.tensor(y_train, dtype=torch.long)\n",
            "/tmp/ipython-input-3569759035.py:24: UserWarning: To copy construct from a tensor, it is recommended to use sourceTensor.detach().clone() or sourceTensor.detach().clone().requires_grad_(True), rather than torch.tensor(sourceTensor).\n",
            "  y_val   = torch.tensor(y_val,   dtype=torch.long)\n"
          ]
        },
        {
          "output_type": "stream",
          "name": "stdout",
          "text": [
            "\n",
            "=== bs32_lr1e-3 ===\n",
            "[01/15] Train 2.1123/10.91% | Val 2.0715/12.53%\n",
            "[02/15] Train 2.0218/12.16% | Val 2.0359/14.40%\n",
            "[03/15] Train 1.8326/20.46% | Val 1.8709/30.40%\n",
            "[04/15] Train 1.6770/33.45% | Val 1.7763/35.20%\n",
            "[05/15] Train 1.5893/35.17% | Val 1.7148/37.87%\n",
            "[06/15] Train 1.5533/36.12% | Val 1.7105/39.20%\n",
            "[07/15] Train 1.5178/37.25% | Val 1.6918/45.33%\n",
            "[08/15] Train 1.4851/39.86% | Val 1.7277/44.53%\n",
            "[09/15] Train 1.4067/44.90% | Val 1.6713/45.07%\n",
            "[10/15] Train 1.3967/43.59% | Val 1.6214/47.20%\n",
            "[11/15] Train 1.3710/43.59% | Val 1.7271/44.53%\n",
            "[12/15] Train 1.3754/42.47% | Val 1.6361/45.33%\n",
            "[13/15] Train 1.3507/43.53% | Val 1.5793/49.33%\n",
            "[14/15] Train 1.3095/45.02% | Val 1.7055/47.47%\n",
            "[15/15] Train 1.3051/44.37% | Val 1.5841/49.33%\n",
            "\n",
            "=== bs64_lr1e-3 ===\n",
            "[01/15] Train 2.0351/20.88% | Val 1.9789/28.00%\n",
            "[02/15] Train 1.9000/26.69% | Val 1.9201/27.73%\n",
            "[03/15] Train 1.8272/28.41% | Val 1.8853/26.67%\n",
            "[04/15] Train 1.7649/29.18% | Val 1.8475/29.07%\n",
            "[05/15] Train 1.6983/29.77% | Val 1.8592/27.73%\n",
            "[06/15] Train 1.6273/33.33% | Val 1.8252/31.47%\n",
            "[07/15] Train 1.5622/29.95% | Val 1.6723/34.93%\n",
            "[08/15] Train 1.4716/37.90% | Val 1.6995/41.60%\n",
            "[09/15] Train 1.4407/42.88% | Val 1.6515/43.47%\n",
            "[10/15] Train 1.3493/47.33% | Val 1.5879/47.73%\n",
            "[11/15] Train 1.2642/49.47% | Val 1.6017/50.13%\n",
            "[12/15] Train 1.2443/53.02% | Val 1.4937/54.67%\n",
            "[13/15] Train 1.2067/54.09% | Val 1.4492/53.60%\n",
            "[14/15] Train 1.1802/54.98% | Val 1.5110/52.53%\n",
            "[15/15] Train 1.1673/55.10% | Val 1.4310/53.60%\n",
            "\n",
            "=== bs64_lr3e-4 ===\n",
            "[01/15] Train 1.7342/30.19% | Val 1.5659/45.60%\n",
            "[02/15] Train 1.2140/52.19% | Val 1.2734/61.07%\n",
            "[03/15] Train 0.9613/64.71% | Val 1.1519/68.53%\n",
            "[04/15] Train 0.8220/73.72% | Val 1.0186/77.87%\n",
            "[05/15] Train 0.7063/79.42% | Val 0.9536/78.40%\n",
            "[06/15] Train 0.6268/82.03% | Val 0.9402/78.93%\n",
            "[07/15] Train 0.5862/82.38% | Val 0.8971/80.53%\n",
            "[08/15] Train 0.5132/84.64% | Val 0.8871/80.00%\n",
            "[09/15] Train 0.4925/84.16% | Val 0.8725/80.53%\n",
            "[10/15] Train 0.4491/85.77% | Val 0.8465/80.53%\n",
            "[11/15] Train 0.4143/86.89% | Val 0.8693/81.33%\n",
            "[12/15] Train 0.3961/88.14% | Val 0.8038/81.07%\n",
            "[13/15] Train 0.3715/88.49% | Val 0.8298/80.80%\n",
            "[14/15] Train 0.3713/87.90% | Val 0.8420/80.80%\n",
            "[15/15] Train 0.3468/89.74% | Val 0.8727/80.80%\n",
            "\n",
            "=== bs128_lr1e-3 ===\n",
            "[01/15] Train 1.6662/39.74% | Val 1.3515/60.80%\n",
            "[02/15] Train 1.1278/59.02% | Val 1.2000/69.87%\n",
            "[03/15] Train 0.8730/67.14% | Val 1.0703/72.27%\n",
            "[04/15] Train 0.7401/73.84% | Val 1.0564/71.20%\n",
            "[05/15] Train 0.6463/77.11% | Val 1.0223/72.80%\n",
            "[06/15] Train 0.6298/76.81% | Val 0.9322/73.33%\n",
            "[07/15] Train 0.5843/78.00% | Val 0.9243/72.80%\n",
            "[08/15] Train 0.5109/82.68% | Val 0.9330/77.07%\n",
            "[09/15] Train 0.4560/87.66% | Val 0.8942/78.13%\n",
            "[10/15] Train 0.4126/87.66% | Val 0.8163/80.00%\n",
            "[11/15] Train 0.3719/88.85% | Val 0.8801/79.73%\n",
            "[12/15] Train 0.3377/89.44% | Val 0.8714/80.00%\n",
            "[13/15] Train 0.3310/89.56% | Val 0.8262/80.53%\n",
            "[14/15] Train 0.3421/88.20% | Val 0.8512/79.47%\n",
            "[15/15] Train 0.3055/90.33% | Val 0.8870/80.00%\n",
            "\n",
            "Selected best: {'name': 'bs64_lr3e-4', 'bs': 64, 'lr': 0.0003} with LAST-epoch Val Acc = 80.80%\n"
          ]
        },
        {
          "output_type": "display_data",
          "data": {
            "text/plain": [
              "<Figure size 700x400 with 1 Axes>"
            ],
            "image/png": "[encoded data removed]"
          },
          "metadata": {}
        },
        {
          "output_type": "display_data",
          "data": {
            "text/plain": [
              "<Figure size 700x400 with 1 Axes>"
            ],
            "image/png": "[encoded data removed]"
          },
          "metadata": {}
        }
      ],
      "source": [
        "# TO BE COMPLETED\n",
        "\n",
        "# ==== Part 4 (iii): Train AlexNet feature classifier and plot BEST curve ====\n",
        "import torch, numpy as np, time\n",
        "import torch.nn as nn\n",
        "import torch.nn.functional as F\n",
        "from torch.utils.data import TensorDataset, DataLoader\n",
        "import matplotlib.pyplot as plt\n",
        "\n",
        "# ---------- Load precomputed features ----------\n",
        "d_tr = torch.load(\"alexnet_features/train.pt\")\n",
        "d_va = torch.load(\"alexnet_features/val.pt\")\n",
        "X_train, y_train, classes = d_tr[\"x\"], d_tr[\"y\"], d_tr[\"classes\"]\n",
        "X_val,   y_val            = d_va[\"x\"], d_va[\"y\"]\n",
        "\n",
        "# Flatten if needed (expect [N,9216])\n",
        "if X_train.dim() == 4: X_train = X_train.view(X_train.size(0), -1)\n",
        "if X_val.dim()   == 4: X_val   = X_val.view(X_val.size(0),   -1)\n",
        "\n",
        "# ----- Detach from AlexNet graph (numpy round-trip) -----\n",
        "X_train = torch.from_numpy(X_train.detach().cpu().numpy()).float()\n",
        "X_val   = torch.from_numpy(X_val.detach().cpu().numpy()).float()\n",
        "y_train = torch.tensor(y_train, dtype=torch.long)\n",
        "y_val   = torch.tensor(y_val,   dtype=torch.long)\n",
        "\n",
        "num_classes = len(classes)\n",
        "\n",
        "# ---------- DataLoaders ----------\n",
        "def make_loaders(bs=64):\n",
        "    tr = DataLoader(TensorDataset(X_train, y_train), batch_size=bs, shuffle=True)\n",
        "    va = DataLoader(TensorDataset(X_val,   y_val),   batch_size=bs, shuffle=False)\n",
        "    return tr, va\n",
        "\n",
        "# ---------- Train once (no class re-definition; will use your AlexNetClassifier) ----------\n",
        "def train_head(model, train_loader, val_loader, lr=1e-3, epochs=15, device=None):\n",
        "    device = device or (torch.device(\"cuda\") if torch.cuda.is_available() else torch.device(\"cpu\"))\n",
        "    model = model.to(device)\n",
        "    opt = torch.optim.Adam(model.parameters(), lr=lr)\n",
        "    crit = nn.CrossEntropyLoss()\n",
        "\n",
        "    hist = []  # (epoch, train_loss, train_acc, val_loss, val_acc)\n",
        "    for ep in range(1, epochs+1):\n",
        "        t0 = time.time()\n",
        "        # train\n",
        "        model.train()\n",
        "        tl, tc, tn = 0.0, 0, 0\n",
        "        for xb, yb in train_loader:\n",
        "            xb, yb = xb.to(device), yb.to(device)\n",
        "            opt.zero_grad()\n",
        "            logits = model(xb)\n",
        "            loss = crit(logits, yb)\n",
        "            loss.backward()\n",
        "            opt.step()\n",
        "            tl += loss.item() * xb.size(0)\n",
        "            tc += (logits.argmax(1) == yb).sum().item()\n",
        "            tn += yb.size(0)\n",
        "        train_loss = tl / tn\n",
        "        train_acc  = tc / tn\n",
        "\n",
        "        # val\n",
        "        model.eval()\n",
        "        vl, vc, vn = 0.0, 0, 0\n",
        "        with torch.no_grad():\n",
        "            for xb, yb in val_loader:\n",
        "                xb, yb = xb.to(device), yb.to(device)\n",
        "                logits = model(xb)\n",
        "                loss = crit(logits, yb)\n",
        "                vl += loss.item() * xb.size(0)\n",
        "                vc += (logits.argmax(1) == yb).sum().item()\n",
        "                vn += yb.size(0)\n",
        "        val_loss = vl / vn\n",
        "        val_acc  = vc / vn\n",
        "\n",
        "        hist.append((ep, train_loss, train_acc, val_loss, val_acc))\n",
        "        print(f\"[{ep:02d}/{epochs}] Train {train_loss:.4f}/{train_acc*100:5.2f}% | \"\n",
        "              f\"Val {val_loss:.4f}/{val_acc*100:5.2f}%\")\n",
        "    return model, hist\n",
        "\n",
        "# ---------- Tuning: compare LAST-epoch validation accuracy; keep BEST only ----------\n",
        "candidates = [\n",
        "    {\"name\":\"bs32_lr1e-3\",  \"bs\":32,  \"lr\":1e-3},\n",
        "    {\"name\":\"bs64_lr1e-3\",  \"bs\":64,  \"lr\":1e-3},\n",
        "    {\"name\":\"bs64_lr3e-4\",  \"bs\":64,  \"lr\":3e-4},\n",
        "    {\"name\":\"bs128_lr1e-3\", \"bs\":128, \"lr\":1e-3},\n",
        "]\n",
        "\n",
        "best = None\n",
        "for cfg in candidates:\n",
        "    print(\"\\n===\", cfg[\"name\"], \"===\")\n",
        "    tr_loader, va_loader = make_loaders(bs=cfg[\"bs\"])\n",
        "    model = AlexNetClassifier(num_classes)            # <-- uses your existing class\n",
        "    _, hist = train_head(model, tr_loader, va_loader, lr=cfg[\"lr\"], epochs=15)\n",
        "    last_val = hist[-1][-1]                           # LAST-epoch val accuracy\n",
        "    if best is None or last_val > best[\"val_last\"]:\n",
        "        best = {\"cfg\": cfg, \"hist\": hist, \"val_last\": last_val}\n",
        "\n",
        "print(\"\\nSelected best:\", best[\"cfg\"], \"with LAST-epoch Val Acc =\", f\"{best['val_last']*100:.2f}%\")\n",
        "\n",
        "# ---------- Plot ONLY the best model curve ----------\n",
        "epochs     = [e  for (e,_,_,_,_) in best[\"hist\"]]\n",
        "train_loss = [tl for (_,tl,_,_,_) in best[\"hist\"]]\n",
        "val_loss   = [vl for (_,_,_,vl,_) in best[\"hist\"]]\n",
        "train_acc  = [ta for (_,_,ta,_,_) in best[\"hist\"]]\n",
        "val_acc    = [va for (_,_,_,_,va) in best[\"hist\"]]\n",
        "\n",
        "plt.figure(figsize=(7,4))\n",
        "plt.plot(epochs, train_loss, label=\"Train Loss\")\n",
        "plt.plot(epochs, val_loss,   label=\"Val Loss\")\n",
        "plt.xlabel(\"Epoch\"); plt.ylabel(\"Loss\")\n",
        "plt.title(f\"Best AlexNet Head — {best['cfg']['name']} (Loss)\")\n",
        "plt.grid(True); plt.legend(); plt.show()\n",
        "\n",
        "plt.figure(figsize=(7,4))\n",
        "plt.plot(epochs, train_acc, label=\"Train Acc\")\n",
        "plt.plot(epochs, val_acc,   label=\"Val Acc\")\n",
        "plt.xlabel(\"Epoch\"); plt.ylabel(\"Accuracy\")\n",
        "plt.title(f\"Best AlexNet Head — {best['cfg']['name']} (Accuracy)\")\n",
        "plt.grid(True); plt.legend(); plt.show()\n",
        "\n",
        "\n"
      ]
    },
    {
      "cell_type": "markdown",
      "metadata": {
        "id": "hQ2tvqJ68Mqb"
      },
      "source": [
        "### Part (iv) - [2pt RESULTS]\n",
        "Report the test accuracy of your best model. How does the test accuracy compare to Part 3(iv) without transfer learning?"
      ]
    },
    {
      "cell_type": "code",
      "execution_count": 20,
      "metadata": {
        "id": "a7TJTa_qbfrR",
        "colab": {
          "base_uri": "https://localhost:8080/"
        },
        "outputId": "2d8de2a1-e886-468a-993b-0b5222b6b910"
      },
      "outputs": [
        {
          "output_type": "stream",
          "name": "stderr",
          "text": [
            "/tmp/ipython-input-1365108762.py:14: UserWarning: To copy construct from a tensor, it is recommended to use sourceTensor.detach().clone() or sourceTensor.detach().clone().requires_grad_(True), rather than torch.tensor(sourceTensor).\n",
            "  y_test = torch.tensor(y_test, dtype=torch.long)\n"
          ]
        },
        {
          "output_type": "stream",
          "name": "stdout",
          "text": [
            "Evaluating best config on test set: {'name': 'bs64_lr3e-4', 'bs': 64, 'lr': 0.0003}\n",
            "[01/15] Train 1.9176/23.90% | Val 1.6091/41.87%\n",
            "[02/15] Train 1.4689/40.57% | Val 1.4060/52.27%\n",
            "[03/15] Train 1.2434/48.64% | Val 1.2544/53.60%\n",
            "[04/15] Train 1.1516/52.19% | Val 1.1517/54.13%\n",
            "[05/15] Train 1.0424/59.85% | Val 1.0755/63.47%\n",
            "[06/15] Train 0.9768/66.07% | Val 1.0108/68.80%\n",
            "[07/15] Train 0.9068/68.68% | Val 0.9552/69.60%\n",
            "[08/15] Train 0.8457/69.51% | Val 0.9042/71.20%\n",
            "[09/15] Train 0.7708/73.25% | Val 0.8839/71.20%\n",
            "[10/15] Train 0.7023/76.28% | Val 0.8263/75.47%\n",
            "[11/15] Train 0.6936/75.09% | Val 0.7893/76.80%\n",
            "[12/15] Train 0.6447/76.28% | Val 0.7615/78.40%\n",
            "[13/15] Train 0.6174/76.39% | Val 0.7482/77.33%\n",
            "[14/15] Train 0.5935/75.92% | Val 0.7363/77.87%\n",
            "[15/15] Train 0.5528/77.76% | Val 0.7174/78.13%\n",
            "Test Accuracy = 80.05%\n"
          ]
        }
      ],
      "source": [
        "# TO BE COMPLETED\n",
        "\n",
        "# ==== Part 4 (iv): Report Test Accuracy of Best Model ====\n",
        "# Load test set features\n",
        "d_te = torch.load(\"alexnet_features/test.pt\")\n",
        "X_test, y_test = d_te[\"x\"], d_te[\"y\"]\n",
        "\n",
        "# Flatten if needed\n",
        "if X_test.dim() == 4:\n",
        "    X_test = X_test.view(X_test.size(0), -1)\n",
        "\n",
        "# Detach (safety)\n",
        "X_test = torch.from_numpy(X_test.detach().cpu().numpy()).float()\n",
        "y_test = torch.tensor(y_test, dtype=torch.long)\n",
        "\n",
        "test_loader = DataLoader(TensorDataset(X_test, y_test), batch_size=64, shuffle=False)\n",
        "\n",
        "# Use the best config from tuning\n",
        "cfg = best[\"cfg\"]\n",
        "print(\"Evaluating best config on test set:\", cfg)\n",
        "\n",
        "tr_loader, va_loader = make_loaders(bs=cfg[\"bs\"])\n",
        "best_model = AlexNetClassifier(num_classes)\n",
        "best_model, _ = train_head(best_model, tr_loader, va_loader,\n",
        "                           lr=cfg[\"lr\"], epochs=15)\n",
        "\n",
        "# ---- Evaluate on Test ----\n",
        "device = torch.device(\"cuda\" if torch.cuda.is_available() else \"cpu\")\n",
        "best_model.to(device)\n",
        "best_model.eval()\n",
        "\n",
        "tc, tn = 0, 0\n",
        "with torch.no_grad():\n",
        "    for xb, yb in test_loader:\n",
        "        xb, yb = xb.to(device), yb.to(device)\n",
        "        logits = best_model(xb)\n",
        "        preds = logits.argmax(1)\n",
        "        tc += (preds == yb).sum().item()\n",
        "        tn += yb.size(0)\n",
        "\n",
        "test_acc = tc / tn\n",
        "print(f\"Test Accuracy = {test_acc*100:.2f}%\")\n",
        "\n",
        "\n"
      ]
    },
    {
      "cell_type": "code",
      "execution_count": null,
      "metadata": {
        "id": "8Fyh08uCbfrm"
      },
      "outputs": [],
      "source": [
        "'''\n",
        "PROVIDE YOUR ANSWER BELOW\n",
        "\n",
        "In Part 3(iv), where the CNN was trained from scratch, the model reached a test\n",
        "accuracy of 75.74%. After applying transfer learning with AlexNet features, the\n",
        "test accuracy improved to 80.05%.\n",
        "\n",
        "This shows that using a pre-trained network to extract features gave a clear boost\n",
        "in performance, since AlexNet already learned strong image representations from\n",
        "the large ImageNet dataset. By reusing those features, the classifier required\n",
        "less training data and avoided overfitting, leading to better generalization on\n",
        "the hand gesture dataset compared to the model built from scratch.\n",
        "\n",
        "\n",
        "\n",
        "\n",
        "'''"
      ]
    },
    {
      "cell_type": "markdown",
      "metadata": {
        "id": "XrDPb0orGZYJ"
      },
      "source": [
        "## Part 5. Testing on New Data [14pt]\n",
        "As a final step in testing we will be revisiting the sample images that you had collected and submitted with your assignment. These sample images should be untouched and will be used to demonstrate how well your model works at identifying your hand guestures.\n",
        "\n"
      ]
    },
    {
      "cell_type": "markdown",
      "metadata": {
        "id": "IsunI_7ILqnS"
      },
      "source": [
        "### Part (i) - [2pt EXPLORATORY]\n",
        "Load and process the hand gesture images you had collected so that they can easily be evaulated by your model."
      ]
    },
    {
      "cell_type": "code",
      "execution_count": 26,
      "metadata": {
        "id": "uSBa_pDmblQZ",
        "colab": {
          "base_uri": "https://localhost:8080/"
        },
        "outputId": "c929865c-bdde-4d7c-fcf1-7c451e2c56e2"
      },
      "outputs": [
        {
          "output_type": "stream",
          "name": "stdout",
          "text": [
            "Loaded 27 images.\n"
          ]
        }
      ],
      "source": [
        "# TO BE COMPLETED\n",
        "\n",
        "# ==== Part 5 (i): Load and preprocess personal gesture images ====\n",
        "import os\n",
        "from torchvision import transforms\n",
        "from PIL import Image\n",
        "import torch\n",
        "\n",
        "# Path to folder with new images\n",
        "personal_dir = \"Zhao_1005843991_fixed\"\n",
        "\n",
        "# Define same preprocessing as training (resize, tensor, normalize)\n",
        "transform = transforms.Compose([\n",
        "    transforms.Resize((224,224)),       # match AlexNet input size\n",
        "    transforms.ToTensor(),\n",
        "    transforms.Normalize(mean=[0.485,0.456,0.406], std=[0.229,0.224,0.225])  # ImageNet normalization\n",
        "])\n",
        "\n",
        "# Load images and labels\n",
        "personal_images, personal_labels, file_names = [], [], []\n",
        "\n",
        "for fname in sorted(os.listdir(personal_dir)):\n",
        "    if fname.endswith(\".jpg\"):\n",
        "        path = os.path.join(personal_dir, fname)\n",
        "        img = Image.open(path).convert(\"RGB\")\n",
        "        tensor = transform(img).unsqueeze(0)  # add batch dimension\n",
        "        personal_images.append(tensor)\n",
        "\n",
        "        # infer label from filename like 1005843991_A_1.jpg -> \"A\"\n",
        "        label = fname.split(\"_\")[1]\n",
        "        personal_labels.append(label)\n",
        "        file_names.append(fname)\n",
        "\n",
        "personal_images = torch.cat(personal_images, dim=0)  # shape [N,3,224,224]\n",
        "print(\"Loaded\", len(personal_images), \"images.\")\n",
        "\n",
        "\n"
      ]
    },
    {
      "cell_type": "markdown",
      "metadata": {
        "id": "8z7JBhPmLqnS"
      },
      "source": [
        "### Part (ii) - [5pt RESULTS]\n",
        "Using the best transfer learning model developed in Part 4. Report the test accuracy on your sample images and how it compares to the test accuracy obtained in Part 4(iv)? Also, use your best model from Part 3 to report the test accuracy on the new sample images and how it compares to the test accuracy obtained in Part 3(iv). You should present your results in a pandas DataFrame.\n",
        "\n",
        "This question will also be evaluated on the overal performance achieved."
      ]
    },
    {
      "cell_type": "code",
      "execution_count": 27,
      "metadata": {
        "id": "lfT77JP3bpud"
      },
      "outputs": [],
      "source": [
        "# TO BE COMPLETED\n",
        "\n",
        "# Part 4 comparison\n",
        "# ==== Part 5 (ii): Evaluate both models on personal images ====\n",
        "import pandas as pd\n",
        "\n",
        "# 1. Extract AlexNet features for personal images\n",
        "with torch.no_grad():\n",
        "    feats = alexnet.features(personal_images).view(len(personal_images), -1)\n",
        "\n",
        "# 2. Predict with BEST transfer learning model (from Part 4)\n",
        "best_model = best_model.eval()\n",
        "logits_tl = best_model(feats)\n",
        "preds_tl = logits_tl.argmax(1)\n",
        "\n",
        "# Convert ground-truth labels (\"A\",\"B\",...) into numeric indices (consistent with training classes)\n",
        "label_to_idx = {c:i for i,c in enumerate(classes)}\n",
        "y_personal = torch.tensor([label_to_idx[lbl] for lbl in personal_labels])\n",
        "\n",
        "# Compute accuracy\n",
        "acc_tl = (preds_tl == y_personal).float().mean().item()\n",
        "\n"
      ]
    },
    {
      "cell_type": "code",
      "source": [
        "# part 3 comparison\n",
        "\n",
        "# Dataset\n",
        "tiny_folder = \"Zhao_1005843991_fixed\"\n",
        "tiny_ds = TinyHandDataset(tiny_folder)\n",
        "print(f\"Tiny dataset: {len(tiny_ds)} images, classes = {tiny_ds.classes}\")\n",
        "\n",
        "# DataLoader (no need to shuffle for eval)\n",
        "tiny_loader = DataLoader(tiny_ds, batch_size=max(1, len(tiny_ds)), shuffle=False)\n",
        "\n",
        "# Model\n",
        "num_classes = len(tiny_ds.classes)\n",
        "best_model = HandCNN1(num_classes)\n",
        "best_model.load_state_dict(torch.load(\n",
        "    \"epoch_015.pt\", map_location=device\n",
        "))\n",
        "best_model = best_model.to(device)\n",
        "best_model.eval()\n",
        "\n",
        "# Evaluate\n",
        "all_preds, all_labels = [], []\n",
        "with torch.no_grad():\n",
        "    for x, y in tiny_loader:\n",
        "        x, y = x.to(device), y.to(device)\n",
        "        logits = best_model(x)\n",
        "        preds = logits.argmax(1)\n",
        "        all_preds.extend(preds.cpu().numpy())\n",
        "        all_labels.extend(y.cpu().numpy())\n",
        "\n",
        "all_preds  = np.array(all_preds)\n",
        "all_labels = np.array(all_labels)\n",
        "new_acc = (all_preds == all_labels).mean()\n",
        "print(f\"✅ Accuracy of Part 3 CNN on NEW images = {new_acc*100:.2f}%\")\n"
      ],
      "metadata": {
        "colab": {
          "base_uri": "https://localhost:8080/"
        },
        "id": "nt-fDty4_hiR",
        "outputId": "bf936420-d1e9-4d91-b942-e3babb2490d2"
      },
      "execution_count": 42,
      "outputs": [
        {
          "output_type": "stream",
          "name": "stdout",
          "text": [
            "Tiny dataset: 27 images, classes = ['A', 'B', 'C', 'D', 'E', 'F', 'G', 'H', 'I']\n",
            "✅ Accuracy of Part 3 CNN on NEW images = 85.19%\n"
          ]
        }
      ]
    },
    {
      "cell_type": "code",
      "source": [
        "print(f\"✅ Accuracy of Part 4 TL on NEW images = {acc_tl*100:.2f}%\")"
      ],
      "metadata": {
        "colab": {
          "base_uri": "https://localhost:8080/"
        },
        "id": "3ERypSdw-yT_",
        "outputId": "990e8ddd-2f23-4251-b245-2cc47fbc8f91"
      },
      "execution_count": 39,
      "outputs": [
        {
          "output_type": "stream",
          "name": "stdout",
          "text": [
            "✅ Accuracy of Part 4 TL on NEW images = 96.30%\n"
          ]
        }
      ]
    },
    {
      "cell_type": "code",
      "source": [
        "import pandas as pd\n",
        "\n",
        "\n",
        "n_personal = len(tiny_ds) if 'tiny_ds' in globals() else None\n",
        "\n",
        "# reported test accuracies from earlier parts\n",
        "part3_iv_acc = 0.7574   # Part 3(iv) test accuracy\n",
        "part4_iv_acc = 0.8005   # Part 4(iv) test accuracy\n",
        "\n",
        "rows = [\n",
        "    {\"Model\": \"Part 3 CNN (best)\",\n",
        "     \"Dataset\": \"Course Test (Part 3 iv)\",\n",
        "     \"Accuracy\": part3_iv_acc},\n",
        "\n",
        "    {\"Model\": \"Part 3 CNN (best)\",\n",
        "     \"Dataset\": \"Personal Images\",\n",
        "     \"Accuracy\": new_acc},\n",
        "\n",
        "    {\"Model\": \"AlexNet TL (best)\",\n",
        "     \"Dataset\": \"Course Test (Part 4 iv)\",\n",
        "     \"Accuracy\": part4_iv_acc},\n",
        "\n",
        "    {\"Model\": \"AlexNet TL (best)\",\n",
        "     \"Dataset\": \"Personal Images\",\n",
        "     \"Accuracy\": acc_tl},\n",
        "]\n",
        "\n",
        "df = pd.DataFrame(rows)\n",
        "\n",
        "# add percentage\n",
        "baseline = {\n",
        "    \"Part 3 CNN (best)\": part3_iv_acc,\n",
        "    \"AlexNet TL (best)\": part4_iv_acc,\n",
        "}\n",
        "df[\"Accuracy %\"] = (df[\"Accuracy\"] * 100).round(2)\n",
        "\n",
        "# nicer column order\n",
        "df = df[[\"Model\", \"Dataset\", \"Accuracy %\"]]\n",
        "df\n"
      ],
      "metadata": {
        "colab": {
          "base_uri": "https://localhost:8080/",
          "height": 175
        },
        "id": "sKgq58zaAjgI",
        "outputId": "4d5fe543-f95a-402c-8f5a-e5a9c55b9102"
      },
      "execution_count": 46,
      "outputs": [
        {
          "output_type": "execute_result",
          "data": {
            "text/plain": [
              "               Model                  Dataset  Accuracy %\n",
              "0  Part 3 CNN (best)  Course Test (Part 3 iv)       75.74\n",
              "1  Part 3 CNN (best)          Personal Images       85.19\n",
              "2  AlexNet TL (best)  Course Test (Part 4 iv)       80.05\n",
              "3  AlexNet TL (best)          Personal Images       96.30"
            ],
            "text/html": [
              "\n",
              "  <div id=\"df-e7ebeb75-6f16-46e3-81db-63e2516c962a\" class=\"colab-df-container\">\n",
              "    <div>\n",
              "<style scoped>\n",
              "    .dataframe tbody tr th:only-of-type {\n",
              "        vertical-align: middle;\n",
              "    }\n",
              "\n",
              "    .dataframe tbody tr th {\n",
              "        vertical-align: top;\n",
              "    }\n",
              "\n",
              "    .dataframe thead th {\n",
              "        text-align: right;\n",
              "    }\n",
              "</style>\n",
              "<table border=\"1\" class=\"dataframe\">\n",
              "  <thead>\n",
              "    <tr style=\"text-align: right;\">\n",
              "      <th></th>\n",
              "      <th>Model</th>\n",
              "      <th>Dataset</th>\n",
              "      <th>Accuracy %</th>\n",
              "    </tr>\n",
              "  </thead>\n",
              "  <tbody>\n",
              "    <tr>\n",
              "      <th>0</th>\n",
              "      <td>Part 3 CNN (best)</td>\n",
              "      <td>Course Test (Part 3 iv)</td>\n",
              "      <td>75.74</td>\n",
              "    </tr>\n",
              "    <tr>\n",
              "      <th>1</th>\n",
              "      <td>Part 3 CNN (best)</td>\n",
              "      <td>Personal Images</td>\n",
              "      <td>85.19</td>\n",
              "    </tr>\n",
              "    <tr>\n",
              "      <th>2</th>\n",
              "      <td>AlexNet TL (best)</td>\n",
              "      <td>Course Test (Part 4 iv)</td>\n",
              "      <td>80.05</td>\n",
              "    </tr>\n",
              "    <tr>\n",
              "      <th>3</th>\n",
              "      <td>AlexNet TL (best)</td>\n",
              "      <td>Personal Images</td>\n",
              "      <td>96.30</td>\n",
              "    </tr>\n",
              "  </tbody>\n",
              "</table>\n",
              "</div>\n",
              "    <div class=\"colab-df-buttons\">\n",
              "\n",
              "  <div class=\"colab-df-container\">\n",
              "    <button class=\"colab-df-convert\" onclick=\"convertToInteractive('df-e7ebeb75-6f16-46e3-81db-63e2516c962a')\"\n",
              "            title=\"Convert this dataframe to an interactive table.\"\n",
              "            style=\"display:none;\">\n",
              "\n",
              "  <svg xmlns=\"http://www.w3.org/2000/svg\" height=\"24px\" viewBox=\"0 -960 960 960\">\n",
              "    <path d=\"M120-120v-720h720v720H120Zm60-500h600v-160H180v160Zm220 220h160v-160H400v160Zm0 220h160v-160H400v160ZM180-400h160v-160H180v160Zm440 0h160v-160H620v160ZM180-180h160v-160H180v160Zm440 0h160v-160H620v160Z\"/>\n",
              "  </svg>\n",
              "    </button>\n",
              "\n",
              "  <style>\n",
              "    .colab-df-container {\n",
              "      display:flex;\n",
              "      gap: 12px;\n",
              "    }\n",
              "\n",
              "    .colab-df-convert {\n",
              "      background-color: #E8F0FE;\n",
              "      border: none;\n",
              "      border-radius: 50%;\n",
              "      cursor: pointer;\n",
              "      display: none;\n",
              "      fill: #1967D2;\n",
              "      height: 32px;\n",
              "      padding: 0 0 0 0;\n",
              "      width: 32px;\n",
              "    }\n",
              "\n",
              "    .colab-df-convert:hover {\n",
              "      background-color: #E2EBFA;\n",
              "      box-shadow: 0px 1px 2px rgba(60, 64, 67, 0.3), 0px 1px 3px 1px rgba(60, 64, 67, 0.15);\n",
              "      fill: #174EA6;\n",
              "    }\n",
              "\n",
              "    .colab-df-buttons div {\n",
              "      margin-bottom: 4px;\n",
              "    }\n",
              "\n",
              "    [theme=dark] .colab-df-convert {\n",
              "      background-color: #3B4455;\n",
              "      fill: #D2E3FC;\n",
              "    }\n",
              "\n",
              "    [theme=dark] .colab-df-convert:hover {\n",
              "      background-color: #434B5C;\n",
              "      box-shadow: 0px 1px 3px 1px rgba(0, 0, 0, 0.15);\n",
              "      filter: drop-shadow(0px 1px 2px rgba(0, 0, 0, 0.3));\n",
              "      fill: #FFFFFF;\n",
              "    }\n",
              "  </style>\n",
              "\n",
              "    <script>\n",
              "      const buttonEl =\n",
              "        document.querySelector('#df-e7ebeb75-6f16-46e3-81db-63e2516c962a button.colab-df-convert');\n",
              "      buttonEl.style.display =\n",
              "        google.colab.kernel.accessAllowed ? 'block' : 'none';\n",
              "\n",
              "      async function convertToInteractive(key) {\n",
              "        const element = document.querySelector('#df-e7ebeb75-6f16-46e3-81db-63e2516c962a');\n",
              "        const dataTable =\n",
              "          await google.colab.kernel.invokeFunction('convertToInteractive',\n",
              "                                                    [key], {});\n",
              "        if (!dataTable) return;\n",
              "\n",
              "        const docLinkHtml = 'Like what you see? Visit the ' +\n",
              "          '<a target=\"_blank\" href=https://colab.research.google.com/notebooks/data_table.ipynb>data table notebook</a>'\n",
              "          + ' to learn more about interactive tables.';\n",
              "        element.innerHTML = '';\n",
              "        dataTable['output_type'] = 'display_data';\n",
              "        await google.colab.output.renderOutput(dataTable, element);\n",
              "        const docLink = document.createElement('div');\n",
              "        docLink.innerHTML = docLinkHtml;\n",
              "        element.appendChild(docLink);\n",
              "      }\n",
              "    </script>\n",
              "  </div>\n",
              "\n",
              "\n",
              "    <div id=\"df-420f29d6-efe0-49f4-856c-f83fc0bc52bb\">\n",
              "      <button class=\"colab-df-quickchart\" onclick=\"quickchart('df-420f29d6-efe0-49f4-856c-f83fc0bc52bb')\"\n",
              "                title=\"Suggest charts\"\n",
              "                style=\"display:none;\">\n",
              "\n",
              "<svg xmlns=\"http://www.w3.org/2000/svg\" height=\"24px\"viewBox=\"0 0 24 24\"\n",
              "     width=\"24px\">\n",
              "    <g>\n",
              "        <path d=\"M19 3H5c-1.1 0-2 .9-2 2v14c0 1.1.9 2 2 2h14c1.1 0 2-.9 2-2V5c0-1.1-.9-2-2-2zM9 17H7v-7h2v7zm4 0h-2V7h2v10zm4 0h-2v-4h2v4z\"/>\n",
              "    </g>\n",
              "</svg>\n",
              "      </button>\n",
              "\n",
              "<style>\n",
              "  .colab-df-quickchart {\n",
              "      --bg-color: #E8F0FE;\n",
              "      --fill-color: #1967D2;\n",
              "      --hover-bg-color: #E2EBFA;\n",
              "      --hover-fill-color: #174EA6;\n",
              "      --disabled-fill-color: #AAA;\n",
              "      --disabled-bg-color: #DDD;\n",
              "  }\n",
              "\n",
              "  [theme=dark] .colab-df-quickchart {\n",
              "      --bg-color: #3B4455;\n",
              "      --fill-color: #D2E3FC;\n",
              "      --hover-bg-color: #434B5C;\n",
              "      --hover-fill-color: #FFFFFF;\n",
              "      --disabled-bg-color: #3B4455;\n",
              "      --disabled-fill-color: #666;\n",
              "  }\n",
              "\n",
              "  .colab-df-quickchart {\n",
              "    background-color: var(--bg-color);\n",
              "    border: none;\n",
              "    border-radius: 50%;\n",
              "    cursor: pointer;\n",
              "    display: none;\n",
              "    fill: var(--fill-color);\n",
              "    height: 32px;\n",
              "    padding: 0;\n",
              "    width: 32px;\n",
              "  }\n",
              "\n",
              "  .colab-df-quickchart:hover {\n",
              "    background-color: var(--hover-bg-color);\n",
              "    box-shadow: 0 1px 2px rgba(60, 64, 67, 0.3), 0 1px 3px 1px rgba(60, 64, 67, 0.15);\n",
              "    fill: var(--button-hover-fill-color);\n",
              "  }\n",
              "\n",
              "  .colab-df-quickchart-complete:disabled,\n",
              "  .colab-df-quickchart-complete:disabled:hover {\n",
              "    background-color: var(--disabled-bg-color);\n",
              "    fill: var(--disabled-fill-color);\n",
              "    box-shadow: none;\n",
              "  }\n",
              "\n",
              "  .colab-df-spinner {\n",
              "    border: 2px solid var(--fill-color);\n",
              "    border-color: transparent;\n",
              "    border-bottom-color: var(--fill-color);\n",
              "    animation:\n",
              "      spin 1s steps(1) infinite;\n",
              "  }\n",
              "\n",
              "  @keyframes spin {\n",
              "    0% {\n",
              "      border-color: transparent;\n",
              "      border-bottom-color: var(--fill-color);\n",
              "      border-left-color: var(--fill-color);\n",
              "    }\n",
              "    20% {\n",
              "      border-color: transparent;\n",
              "      border-left-color: var(--fill-color);\n",
              "      border-top-color: var(--fill-color);\n",
              "    }\n",
              "    30% {\n",
              "      border-color: transparent;\n",
              "      border-left-color: var(--fill-color);\n",
              "      border-top-color: var(--fill-color);\n",
              "      border-right-color: var(--fill-color);\n",
              "    }\n",
              "    40% {\n",
              "      border-color: transparent;\n",
              "      border-right-color: var(--fill-color);\n",
              "      border-top-color: var(--fill-color);\n",
              "    }\n",
              "    60% {\n",
              "      border-color: transparent;\n",
              "      border-right-color: var(--fill-color);\n",
              "    }\n",
              "    80% {\n",
              "      border-color: transparent;\n",
              "      border-right-color: var(--fill-color);\n",
              "      border-bottom-color: var(--fill-color);\n",
              "    }\n",
              "    90% {\n",
              "      border-color: transparent;\n",
              "      border-bottom-color: var(--fill-color);\n",
              "    }\n",
              "  }\n",
              "</style>\n",
              "\n",
              "      <script>\n",
              "        async function quickchart(key) {\n",
              "          const quickchartButtonEl =\n",
              "            document.querySelector('#' + key + ' button');\n",
              "          quickchartButtonEl.disabled = true;  // To prevent multiple clicks.\n",
              "          quickchartButtonEl.classList.add('colab-df-spinner');\n",
              "          try {\n",
              "            const charts = await google.colab.kernel.invokeFunction(\n",
              "                'suggestCharts', [key], {});\n",
              "          } catch (error) {\n",
              "            console.error('Error during call to suggestCharts:', error);\n",
              "          }\n",
              "          quickchartButtonEl.classList.remove('colab-df-spinner');\n",
              "          quickchartButtonEl.classList.add('colab-df-quickchart-complete');\n",
              "        }\n",
              "        (() => {\n",
              "          let quickchartButtonEl =\n",
              "            document.querySelector('#df-420f29d6-efe0-49f4-856c-f83fc0bc52bb button');\n",
              "          quickchartButtonEl.style.display =\n",
              "            google.colab.kernel.accessAllowed ? 'block' : 'none';\n",
              "        })();\n",
              "      </script>\n",
              "    </div>\n",
              "\n",
              "  <div id=\"id_a9c87a6b-de0b-4f57-8748-ab05a62bc6a1\">\n",
              "    <style>\n",
              "      .colab-df-generate {\n",
              "        background-color: #E8F0FE;\n",
              "        border: none;\n",
              "        border-radius: 50%;\n",
              "        cursor: pointer;\n",
              "        display: none;\n",
              "        fill: #1967D2;\n",
              "        height: 32px;\n",
              "        padding: 0 0 0 0;\n",
              "        width: 32px;\n",
              "      }\n",
              "\n",
              "      .colab-df-generate:hover {\n",
              "        background-color: #E2EBFA;\n",
              "        box-shadow: 0px 1px 2px rgba(60, 64, 67, 0.3), 0px 1px 3px 1px rgba(60, 64, 67, 0.15);\n",
              "        fill: #174EA6;\n",
              "      }\n",
              "\n",
              "      [theme=dark] .colab-df-generate {\n",
              "        background-color: #3B4455;\n",
              "        fill: #D2E3FC;\n",
              "      }\n",
              "\n",
              "      [theme=dark] .colab-df-generate:hover {\n",
              "        background-color: #434B5C;\n",
              "        box-shadow: 0px 1px 3px 1px rgba(0, 0, 0, 0.15);\n",
              "        filter: drop-shadow(0px 1px 2px rgba(0, 0, 0, 0.3));\n",
              "        fill: #FFFFFF;\n",
              "      }\n",
              "    </style>\n",
              "    <button class=\"colab-df-generate\" onclick=\"generateWithVariable('df')\"\n",
              "            title=\"Generate code using this dataframe.\"\n",
              "            style=\"display:none;\">\n",
              "\n",
              "  <svg xmlns=\"http://www.w3.org/2000/svg\" height=\"24px\"viewBox=\"0 0 24 24\"\n",
              "       width=\"24px\">\n",
              "    <path d=\"M7,19H8.4L18.45,9,17,7.55,7,17.6ZM5,21V16.75L18.45,3.32a2,2,0,0,1,2.83,0l1.4,1.43a1.91,1.91,0,0,1,.58,1.4,1.91,1.91,0,0,1-.58,1.4L9.25,21ZM18.45,9,17,7.55Zm-12,3A5.31,5.31,0,0,0,4.9,8.1,5.31,5.31,0,0,0,1,6.5,5.31,5.31,0,0,0,4.9,4.9,5.31,5.31,0,0,0,6.5,1,5.31,5.31,0,0,0,8.1,4.9,5.31,5.31,0,0,0,12,6.5,5.46,5.46,0,0,0,6.5,12Z\"/>\n",
              "  </svg>\n",
              "    </button>\n",
              "    <script>\n",
              "      (() => {\n",
              "      const buttonEl =\n",
              "        document.querySelector('#id_a9c87a6b-de0b-4f57-8748-ab05a62bc6a1 button.colab-df-generate');\n",
              "      buttonEl.style.display =\n",
              "        google.colab.kernel.accessAllowed ? 'block' : 'none';\n",
              "\n",
              "      buttonEl.onclick = () => {\n",
              "        google.colab.notebook.generateWithVariable('df');\n",
              "      }\n",
              "      })();\n",
              "    </script>\n",
              "  </div>\n",
              "\n",
              "    </div>\n",
              "  </div>\n"
            ],
            "application/vnd.google.colaboratory.intrinsic+json": {
              "type": "dataframe",
              "variable_name": "df",
              "summary": "{\n  \"name\": \"df\",\n  \"rows\": 4,\n  \"fields\": [\n    {\n      \"column\": \"Model\",\n      \"properties\": {\n        \"dtype\": \"string\",\n        \"num_unique_values\": 2,\n        \"samples\": [\n          \"AlexNet TL (best)\",\n          \"Part 3 CNN (best)\"\n        ],\n        \"semantic_type\": \"\",\n        \"description\": \"\"\n      }\n    },\n    {\n      \"column\": \"Dataset\",\n      \"properties\": {\n        \"dtype\": \"string\",\n        \"num_unique_values\": 3,\n        \"samples\": [\n          \"Course Test (Part 3 iv)\",\n          \"Personal Images\"\n        ],\n        \"semantic_type\": \"\",\n        \"description\": \"\"\n      }\n    },\n    {\n      \"column\": \"Accuracy %\",\n      \"properties\": {\n        \"dtype\": \"number\",\n        \"std\": 8.87180177115487,\n        \"min\": 75.74,\n        \"max\": 96.3,\n        \"num_unique_values\": 4,\n        \"samples\": [\n          85.19,\n          96.3\n        ],\n        \"semantic_type\": \"\",\n        \"description\": \"\"\n      }\n    }\n  ]\n}"
            }
          },
          "metadata": {},
          "execution_count": 46
        }
      ]
    },
    {
      "cell_type": "code",
      "source": [
        "'''\n",
        "\n",
        "Using the best CNN model from Part 3, the accuracy improved from 75.74% on the\n",
        "course test set to 85.19% on the new personal dataset. This suggests that the CNN\n",
        "learned useful features that generalized reasonably well to the new images, even\n",
        "though it was trained from scratch.\n",
        "\n",
        "For the transfer learning model from Part 4, accuracy improved from 80.05% on the\n",
        "course test set to 96.30% on the new dataset. The pretrained AlexNet features clearly\n",
        "provided stronger generalization, giving a larger performance boost when tested\n",
        "on unseen images.\n",
        "\n",
        "'''"
      ],
      "metadata": {
        "id": "Z_wSSmtWJ_HU"
      },
      "execution_count": null,
      "outputs": []
    },
    {
      "cell_type": "markdown",
      "metadata": {
        "id": "IBdVwrmGmdS0"
      },
      "source": [
        "### Part (iii) - [5pt DISCUSSION]\n",
        "How well did your models do for the different hand guestures? Provide an explanation for why you think your models performed the way it did? Be sure to compare the results of training, validation, testing, and also on the new data represented by your own hand gestures.\n",
        "\n",
        "How well would this model perform if you were to deploy it in the real-world? List some things you could do to improve the model performance."
      ]
    },
    {
      "cell_type": "code",
      "execution_count": null,
      "metadata": {
        "id": "KD5YZTfBbpu1"
      },
      "outputs": [],
      "source": [
        "'''\n",
        "PROVIDE YOUR ANSWER BELOW\n",
        "\n",
        "\n",
        "The CNN model (trained from scratch) reached 100% training accuracy but only 67.73%\n",
        "validation accuracy and 75.74% test accuracy. This gap shows clear overfitting:\n",
        "the model memorized the training gestures but struggled with unseen validation and\n",
        "test examples. Interestingly, when tested on my own hand gesture dataset, accuracy\n",
        "rose to 85.19%. This could be due to my dataset being smaller, cleaner, or more\n",
        "consistent in lighting/pose, which made it easier for the CNN to classify than the\n",
        "more diverse course dataset.\n",
        "\n",
        "The transfer learning model (AlexNet features + custom classifier) performed more\n",
        "balanced: 89.74% training accuracy, 80.80% validation accuracy, and 80.05% test\n",
        "accuracy. This shows less overfitting and stronger generalization. On my new data,\n",
        "accuracy increased further to 96.30%, suggesting that pretrained features are much\n",
        "more robust and effective at capturing visual patterns in hand gestures, even with\n",
        "fewer examples.\n",
        "\n",
        "The CNN has extremely high training accuracy but weaker validation/test accuracy\n",
        "suggests it lacked generalizable features. Its better performance on my smaller\n",
        "dataset reflects limited diversity, making it easier to classify.\n",
        "\n",
        "The TL Pretrained on a large dataset (ImageNet), AlexNet features provided richer\n",
        "representations of hand shapes, leading to stronger performance across all splits\n",
        "and a clear advantage on my personal dataset.\n",
        "\n",
        "In the real world, the TL model would clearly perform better than the CNN model.\n",
        "However, real-world deployment would likely face challenges such as background noise,\n",
        "occlusion, skin tone variations, and hand position differences. Data Augmentation\n",
        "can be one choice of improvement by adding random rotations, flips, brightness shifts,\n",
        "and scaling. Besides, collecting more hand gesture images under varied conditions\n",
        "can be a good help. We can also apply Regularization like stronger dropout or weight decay\n",
        "in the CNN to reduce overfitting.\n",
        "\n",
        "'''"
      ]
    },
    {
      "cell_type": "markdown",
      "metadata": {
        "id": "lmPjEEukCD-F"
      },
      "source": [
        "### Part (iv) - [2pt DISCUSSION]\n",
        "Reflect on the ethical implications of deploying a hand gesture recognition model in real-world applications. What are some potential biases that could arise in your model, and how might they impact different user groups?\n",
        "\n",
        "Discuss measures you can take to identify and mitigate these biases during the development and deployment phases. Consider aspects such as data collection, model training, and user feedback."
      ]
    },
    {
      "cell_type": "code",
      "execution_count": null,
      "metadata": {
        "id": "jNH95ZVHCD-F"
      },
      "outputs": [],
      "source": [
        "'''\n",
        "PROVIDE YOUR ANSWER BELOW\n",
        "\n",
        "Deploying a hand gesture recognition model can raise fairness concerns. If the\n",
        "training data mostly reflects certain skin tones, hand sizes, or lighting, the\n",
        "model may perform well for some users but poorly for others, which could exclude\n",
        "or disadvantage those groups. Cultural differences in gestures may also lead to\n",
        "errors. To reduce these biases, the dataset should be diverse, the model should\n",
        "be tested across different user groups, and feedback should be used to improve\n",
        "performance over time.\n",
        "\n",
        "\n",
        "\n",
        "\n",
        "'''"
      ]
    },
    {
      "cell_type": "markdown",
      "metadata": {
        "id": "9SMqukISPXen"
      },
      "source": [
        "# PART C (Optional) - Bonus Challenge!\n",
        "\n",
        "This is an optional exercise for those that finish the assignment early and would like to take on some additional challenging task.\n",
        "\n",
        "For this bonus challenge you are asked to explore different techniques to further improve the model for more realistic scenarios where the hands may be in front of various backgrounds, be taken at different scales, rotations, and positions in the image. To build a superior image classification model you can complete one or all of the following tasks.\n",
        "\n",
        "Tasks:\n",
        "\n",
        "1. Test your best models (with or without transfer learning) on hand gestures images with backgrounds that are not clean and smooth. You can take your own hand gesture images, or find ones online to test your model. Comment on the performance of your model.\n",
        "2. Generated additional data by performing data augmentation to replace the clean, smooth backgrounds with backgrounds with different textures. Do this on all your training, validation, and test data. This task can be done manually (could take a long time) or you can implement code that can automate the task. For Example, one approach you could take to automate this task is to use pretrained image segmentation tools to identify the hands in the images and crop them out and put them onto other backgrounds.\n",
        "3. Improve on your data augmentation by applying scale, rotation, and translation transformations on different backgrounds.\n",
        "4. Compare the performance of your best CNN models (with and without transfoer learning) trained with data augmentation to the results in 1. where you did not train on images with data augmentation.\n",
        "5. Implement one of many region proposal tools to detect hand gestures in image frames and put a bounding box around the region with the highest confidence. You can use pretrained YOLO models, or a region proposal tool from openCV.\n",
        "6. Create a short video demonstration how you can use your hand gesture recognition model to communicate a message using hand gestures.\n",
        "\n",
        "Bonus marks will be provided based on the number of steps completed. Summarize below your results and anything intersting you learned from the steps that you completed. Bonus marks cannot be accumulated beyond the maximum assignment grade."
      ]
    },
    {
      "cell_type": "code",
      "execution_count": null,
      "metadata": {
        "id": "y7RdCepbPbya"
      },
      "outputs": [],
      "source": [
        "# TO BE COMPLETED\n",
        "\n",
        "\n"
      ]
    },
    {
      "cell_type": "code",
      "execution_count": null,
      "metadata": {
        "id": "l-16xaXFPcql"
      },
      "outputs": [],
      "source": [
        "'''\n",
        "PROVIDE YOUR ANSWER BELOW\n",
        "\n",
        "\n",
        "\n",
        "\n",
        "\n",
        "\n",
        "'''"
      ]
    },
    {
      "cell_type": "markdown",
      "metadata": {
        "id": "FYwI4RmFS2RB"
      },
      "source": [
        "### Saving to HTML\n",
        "Detailed instructions for saving to HTML can be found <a href=\"https://stackoverflow.com/questions/53460051/convert-ipynb-notebook-to-html-in-google-colab/64487858#64487858\">here</a>. Provided below are a summary of the instructions:\n",
        "\n",
        "(1) download your ipynb file by clicking on File->Download.ipynb\n",
        "\n",
        "(2) reupload your file to the temporary Google Colab storage (you can access the temporary storage from the tab to the left)\n",
        "\n",
        "(3) run the following:"
      ]
    },
    {
      "cell_type": "code",
      "execution_count": null,
      "metadata": {
        "id": "2TrsqdNgS5ex"
      },
      "outputs": [],
      "source": [
        "%%shell\n",
        "jupyter nbconvert --to html /content/A2_Hand_Gesture_Recognition.ipynb"
      ]
    },
    {
      "cell_type": "markdown",
      "metadata": {
        "id": "nuXhlFlPTY7F"
      },
      "source": [
        "(4) the html file will be available for download in the temporary Google Colab storage\n",
        "\n",
        "(5) review the html file and make sure all the results are visible before submitting your assignment to Quercus"
      ]
    },
    {
      "cell_type": "markdown",
      "metadata": {
        "id": "cLzCpNFMhgxO"
      },
      "source": [
        "# Assignment Grading Rubric\n",
        "The grading of the assignment will be based on the following categories:\n",
        "\n",
        "(0) **5 Pt - DATA** Generating new data to evaluate your model.\n",
        "\n",
        "(1) **9 Pt - EXPLORATORY QUESTIONS** These are basic questions that in most cases can be answered without requiring a fully working and trained neural network model. For example, data loading, processing and visualization, summary statistics, data exploration, model and training setup, etc.\n",
        "\n",
        "(2) **9 Pt - MODEL** Student has successfully implemented all the required neural network models and has demonstrated successful training of the model without any errors.\n",
        "\n",
        "(3) **9 Pt - RESULT** Students are evaluated based on the results achieved in comparison to the expected results of the assignment.\n",
        "\n",
        "(4) **9 Pt - DISCUSSION QUESTIONS** Student demonstrated understanding beyond the basic exploratory questions, can answer some of the more challenging questions, and provide arguments for their model selection decisions.\n",
        "\n",
        "(5) **9 Pt - COMMUNICATION** Student has provided a quality submission that is easy to read without too many unnecessary output statements that distract the reading of the document. The code has been well commented and all the answers are communicated clearly and concisely.\n",
        "\n",
        "(6) **5 Pt - BONUS** Student has completed the assignment and has taken on the challenging bonus tasks listed in PART C. The student has demonstrated a good understanding of all aspects of the assignment and has exceeded expectations for the assignment.\n",
        "\n",
        "\n",
        "\n",
        "**TOTAL GRADE = _____ of 50 Pts**"
      ]
    }
  ],
  "metadata": {
    "colab": {
      "provenance": []
    },
    "kernelspec": {
      "display_name": "Python 3",
      "language": "python",
      "name": "python3"
    },
    "language_info": {
      "codemirror_mode": {
        "name": "ipython",
        "version": 3
      },
      "file_extension": ".py",
      "mimetype": "text/x-python",
      "name": "python",
      "nbconvert_exporter": "python",
      "pygments_lexer": "ipython3",
      "version": "3.7.4"
    }
  },
  "nbformat": 4,
  "nbformat_minor": 0
}